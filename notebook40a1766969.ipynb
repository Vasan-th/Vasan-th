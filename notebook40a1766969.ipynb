{
 "cells": [
  {
   "cell_type": "code",
   "execution_count": 1,
   "id": "2cab7a9d",
   "metadata": {
    "_cell_guid": "b1076dfc-b9ad-4769-8c92-a6c4dae69d19",
    "_uuid": "8f2839f25d086af736a60e9eeb907d3b93b6e0e5",
    "execution": {
     "iopub.execute_input": "2022-07-01T09:15:32.826729Z",
     "iopub.status.busy": "2022-07-01T09:15:32.826131Z",
     "iopub.status.idle": "2022-07-01T09:15:32.846232Z",
     "shell.execute_reply": "2022-07-01T09:15:32.845084Z"
    },
    "papermill": {
     "duration": 0.034117,
     "end_time": "2022-07-01T09:15:32.848930",
     "exception": false,
     "start_time": "2022-07-01T09:15:32.814813",
     "status": "completed"
    },
    "tags": []
   },
   "outputs": [
    {
     "name": "stdout",
     "output_type": "stream",
     "text": [
      "/kaggle/input/titanic/train.csv\n",
      "/kaggle/input/titanic/test.csv\n",
      "/kaggle/input/titanic/gender_submission.csv\n"
     ]
    }
   ],
   "source": [
    "# This Python 3 environment comes with many helpful analytics libraries installed\n",
    "# It is defined by the kaggle/python Docker image: https://github.com/kaggle/docker-python\n",
    "# For example, here's several helpful packages to load\n",
    "\n",
    "import numpy as np # linear algebra\n",
    "import pandas as pd # data processing, CSV file I/O (e.g. pd.read_csv)\n",
    "\n",
    "# Input data files are available in the read-only \"../input/\" directory\n",
    "# For example, running this (by clicking run or pressing Shift+Enter) will list all files under the input directory\n",
    "\n",
    "import os\n",
    "for dirname, _, filenames in os.walk('/kaggle/input'):\n",
    "    for filename in filenames:\n",
    "        print(os.path.join(dirname, filename))\n",
    "\n",
    "# You can write up to 20GB to the current directory (/kaggle/working/) that gets preserved as output when you create a version using \"Save & Run All\" \n",
    "# You can also write temporary files to /kaggle/temp/, but they won't be saved outside of the current session"
   ]
  },
  {
   "cell_type": "code",
   "execution_count": 2,
   "id": "8b606d1f",
   "metadata": {
    "execution": {
     "iopub.execute_input": "2022-07-01T09:15:32.867585Z",
     "iopub.status.busy": "2022-07-01T09:15:32.867161Z",
     "iopub.status.idle": "2022-07-01T09:15:32.877715Z",
     "shell.execute_reply": "2022-07-01T09:15:32.876371Z"
    },
    "papermill": {
     "duration": 0.022842,
     "end_time": "2022-07-01T09:15:32.880336",
     "exception": false,
     "start_time": "2022-07-01T09:15:32.857494",
     "status": "completed"
    },
    "tags": []
   },
   "outputs": [
    {
     "data": {
      "text/plain": [
       "['titanic']"
      ]
     },
     "execution_count": 2,
     "metadata": {},
     "output_type": "execute_result"
    }
   ],
   "source": [
    "os.listdir('/kaggle/input/')"
   ]
  },
  {
   "cell_type": "markdown",
   "id": "ea8d110c",
   "metadata": {
    "papermill": {
     "duration": 0.008603,
     "end_time": "2022-07-01T09:15:32.897358",
     "exception": false,
     "start_time": "2022-07-01T09:15:32.888755",
     "status": "completed"
    },
    "tags": []
   },
   "source": [
    "Importing the training set"
   ]
  },
  {
   "cell_type": "code",
   "execution_count": 3,
   "id": "c4739905",
   "metadata": {
    "execution": {
     "iopub.execute_input": "2022-07-01T09:15:32.916840Z",
     "iopub.status.busy": "2022-07-01T09:15:32.916361Z",
     "iopub.status.idle": "2022-07-01T09:15:32.958032Z",
     "shell.execute_reply": "2022-07-01T09:15:32.956840Z"
    },
    "papermill": {
     "duration": 0.055185,
     "end_time": "2022-07-01T09:15:32.961035",
     "exception": false,
     "start_time": "2022-07-01T09:15:32.905850",
     "status": "completed"
    },
    "tags": []
   },
   "outputs": [
    {
     "name": "stdout",
     "output_type": "stream",
     "text": [
      "(891, 12)\n"
     ]
    },
    {
     "data": {
      "text/html": [
       "<div>\n",
       "<style scoped>\n",
       "    .dataframe tbody tr th:only-of-type {\n",
       "        vertical-align: middle;\n",
       "    }\n",
       "\n",
       "    .dataframe tbody tr th {\n",
       "        vertical-align: top;\n",
       "    }\n",
       "\n",
       "    .dataframe thead th {\n",
       "        text-align: right;\n",
       "    }\n",
       "</style>\n",
       "<table border=\"1\" class=\"dataframe\">\n",
       "  <thead>\n",
       "    <tr style=\"text-align: right;\">\n",
       "      <th></th>\n",
       "      <th>PassengerId</th>\n",
       "      <th>Survived</th>\n",
       "      <th>Pclass</th>\n",
       "      <th>Name</th>\n",
       "      <th>Sex</th>\n",
       "      <th>Age</th>\n",
       "      <th>SibSp</th>\n",
       "      <th>Parch</th>\n",
       "      <th>Ticket</th>\n",
       "      <th>Fare</th>\n",
       "      <th>Cabin</th>\n",
       "      <th>Embarked</th>\n",
       "    </tr>\n",
       "  </thead>\n",
       "  <tbody>\n",
       "    <tr>\n",
       "      <th>0</th>\n",
       "      <td>1</td>\n",
       "      <td>0</td>\n",
       "      <td>3</td>\n",
       "      <td>Braund, Mr. Owen Harris</td>\n",
       "      <td>male</td>\n",
       "      <td>22.0</td>\n",
       "      <td>1</td>\n",
       "      <td>0</td>\n",
       "      <td>A/5 21171</td>\n",
       "      <td>7.2500</td>\n",
       "      <td>NaN</td>\n",
       "      <td>S</td>\n",
       "    </tr>\n",
       "    <tr>\n",
       "      <th>1</th>\n",
       "      <td>2</td>\n",
       "      <td>1</td>\n",
       "      <td>1</td>\n",
       "      <td>Cumings, Mrs. John Bradley (Florence Briggs Th...</td>\n",
       "      <td>female</td>\n",
       "      <td>38.0</td>\n",
       "      <td>1</td>\n",
       "      <td>0</td>\n",
       "      <td>PC 17599</td>\n",
       "      <td>71.2833</td>\n",
       "      <td>C85</td>\n",
       "      <td>C</td>\n",
       "    </tr>\n",
       "    <tr>\n",
       "      <th>2</th>\n",
       "      <td>3</td>\n",
       "      <td>1</td>\n",
       "      <td>3</td>\n",
       "      <td>Heikkinen, Miss. Laina</td>\n",
       "      <td>female</td>\n",
       "      <td>26.0</td>\n",
       "      <td>0</td>\n",
       "      <td>0</td>\n",
       "      <td>STON/O2. 3101282</td>\n",
       "      <td>7.9250</td>\n",
       "      <td>NaN</td>\n",
       "      <td>S</td>\n",
       "    </tr>\n",
       "    <tr>\n",
       "      <th>3</th>\n",
       "      <td>4</td>\n",
       "      <td>1</td>\n",
       "      <td>1</td>\n",
       "      <td>Futrelle, Mrs. Jacques Heath (Lily May Peel)</td>\n",
       "      <td>female</td>\n",
       "      <td>35.0</td>\n",
       "      <td>1</td>\n",
       "      <td>0</td>\n",
       "      <td>113803</td>\n",
       "      <td>53.1000</td>\n",
       "      <td>C123</td>\n",
       "      <td>S</td>\n",
       "    </tr>\n",
       "    <tr>\n",
       "      <th>4</th>\n",
       "      <td>5</td>\n",
       "      <td>0</td>\n",
       "      <td>3</td>\n",
       "      <td>Allen, Mr. William Henry</td>\n",
       "      <td>male</td>\n",
       "      <td>35.0</td>\n",
       "      <td>0</td>\n",
       "      <td>0</td>\n",
       "      <td>373450</td>\n",
       "      <td>8.0500</td>\n",
       "      <td>NaN</td>\n",
       "      <td>S</td>\n",
       "    </tr>\n",
       "  </tbody>\n",
       "</table>\n",
       "</div>"
      ],
      "text/plain": [
       "   PassengerId  Survived  Pclass  \\\n",
       "0            1         0       3   \n",
       "1            2         1       1   \n",
       "2            3         1       3   \n",
       "3            4         1       1   \n",
       "4            5         0       3   \n",
       "\n",
       "                                                Name     Sex   Age  SibSp  \\\n",
       "0                            Braund, Mr. Owen Harris    male  22.0      1   \n",
       "1  Cumings, Mrs. John Bradley (Florence Briggs Th...  female  38.0      1   \n",
       "2                             Heikkinen, Miss. Laina  female  26.0      0   \n",
       "3       Futrelle, Mrs. Jacques Heath (Lily May Peel)  female  35.0      1   \n",
       "4                           Allen, Mr. William Henry    male  35.0      0   \n",
       "\n",
       "   Parch            Ticket     Fare Cabin Embarked  \n",
       "0      0         A/5 21171   7.2500   NaN        S  \n",
       "1      0          PC 17599  71.2833   C85        C  \n",
       "2      0  STON/O2. 3101282   7.9250   NaN        S  \n",
       "3      0            113803  53.1000  C123        S  \n",
       "4      0            373450   8.0500   NaN        S  "
      ]
     },
     "execution_count": 3,
     "metadata": {},
     "output_type": "execute_result"
    }
   ],
   "source": [
    "train = pd.read_csv('/kaggle/input/titanic/train.csv')\n",
    "print(train.shape)\n",
    "train.head()"
   ]
  },
  {
   "cell_type": "code",
   "execution_count": 4,
   "id": "809f43b4",
   "metadata": {
    "execution": {
     "iopub.execute_input": "2022-07-01T09:15:32.981648Z",
     "iopub.status.busy": "2022-07-01T09:15:32.981265Z",
     "iopub.status.idle": "2022-07-01T09:15:33.049595Z",
     "shell.execute_reply": "2022-07-01T09:15:33.048386Z"
    },
    "papermill": {
     "duration": 0.082051,
     "end_time": "2022-07-01T09:15:33.052370",
     "exception": false,
     "start_time": "2022-07-01T09:15:32.970319",
     "status": "completed"
    },
    "tags": []
   },
   "outputs": [
    {
     "data": {
      "text/html": [
       "<div>\n",
       "<style scoped>\n",
       "    .dataframe tbody tr th:only-of-type {\n",
       "        vertical-align: middle;\n",
       "    }\n",
       "\n",
       "    .dataframe tbody tr th {\n",
       "        vertical-align: top;\n",
       "    }\n",
       "\n",
       "    .dataframe thead th {\n",
       "        text-align: right;\n",
       "    }\n",
       "</style>\n",
       "<table border=\"1\" class=\"dataframe\">\n",
       "  <thead>\n",
       "    <tr style=\"text-align: right;\">\n",
       "      <th></th>\n",
       "      <th>PassengerId</th>\n",
       "      <th>Survived</th>\n",
       "      <th>Pclass</th>\n",
       "      <th>Name</th>\n",
       "      <th>Sex</th>\n",
       "      <th>Age</th>\n",
       "      <th>SibSp</th>\n",
       "      <th>Parch</th>\n",
       "      <th>Ticket</th>\n",
       "      <th>Fare</th>\n",
       "      <th>Cabin</th>\n",
       "      <th>Embarked</th>\n",
       "    </tr>\n",
       "  </thead>\n",
       "  <tbody>\n",
       "    <tr>\n",
       "      <th>count</th>\n",
       "      <td>891.000000</td>\n",
       "      <td>891.000000</td>\n",
       "      <td>891.000000</td>\n",
       "      <td>891</td>\n",
       "      <td>891</td>\n",
       "      <td>714.000000</td>\n",
       "      <td>891.000000</td>\n",
       "      <td>891.000000</td>\n",
       "      <td>891</td>\n",
       "      <td>891.000000</td>\n",
       "      <td>204</td>\n",
       "      <td>889</td>\n",
       "    </tr>\n",
       "    <tr>\n",
       "      <th>unique</th>\n",
       "      <td>NaN</td>\n",
       "      <td>NaN</td>\n",
       "      <td>NaN</td>\n",
       "      <td>891</td>\n",
       "      <td>2</td>\n",
       "      <td>NaN</td>\n",
       "      <td>NaN</td>\n",
       "      <td>NaN</td>\n",
       "      <td>681</td>\n",
       "      <td>NaN</td>\n",
       "      <td>147</td>\n",
       "      <td>3</td>\n",
       "    </tr>\n",
       "    <tr>\n",
       "      <th>top</th>\n",
       "      <td>NaN</td>\n",
       "      <td>NaN</td>\n",
       "      <td>NaN</td>\n",
       "      <td>Braund, Mr. Owen Harris</td>\n",
       "      <td>male</td>\n",
       "      <td>NaN</td>\n",
       "      <td>NaN</td>\n",
       "      <td>NaN</td>\n",
       "      <td>347082</td>\n",
       "      <td>NaN</td>\n",
       "      <td>B96 B98</td>\n",
       "      <td>S</td>\n",
       "    </tr>\n",
       "    <tr>\n",
       "      <th>freq</th>\n",
       "      <td>NaN</td>\n",
       "      <td>NaN</td>\n",
       "      <td>NaN</td>\n",
       "      <td>1</td>\n",
       "      <td>577</td>\n",
       "      <td>NaN</td>\n",
       "      <td>NaN</td>\n",
       "      <td>NaN</td>\n",
       "      <td>7</td>\n",
       "      <td>NaN</td>\n",
       "      <td>4</td>\n",
       "      <td>644</td>\n",
       "    </tr>\n",
       "    <tr>\n",
       "      <th>mean</th>\n",
       "      <td>446.000000</td>\n",
       "      <td>0.383838</td>\n",
       "      <td>2.308642</td>\n",
       "      <td>NaN</td>\n",
       "      <td>NaN</td>\n",
       "      <td>29.699118</td>\n",
       "      <td>0.523008</td>\n",
       "      <td>0.381594</td>\n",
       "      <td>NaN</td>\n",
       "      <td>32.204208</td>\n",
       "      <td>NaN</td>\n",
       "      <td>NaN</td>\n",
       "    </tr>\n",
       "    <tr>\n",
       "      <th>std</th>\n",
       "      <td>257.353842</td>\n",
       "      <td>0.486592</td>\n",
       "      <td>0.836071</td>\n",
       "      <td>NaN</td>\n",
       "      <td>NaN</td>\n",
       "      <td>14.526497</td>\n",
       "      <td>1.102743</td>\n",
       "      <td>0.806057</td>\n",
       "      <td>NaN</td>\n",
       "      <td>49.693429</td>\n",
       "      <td>NaN</td>\n",
       "      <td>NaN</td>\n",
       "    </tr>\n",
       "    <tr>\n",
       "      <th>min</th>\n",
       "      <td>1.000000</td>\n",
       "      <td>0.000000</td>\n",
       "      <td>1.000000</td>\n",
       "      <td>NaN</td>\n",
       "      <td>NaN</td>\n",
       "      <td>0.420000</td>\n",
       "      <td>0.000000</td>\n",
       "      <td>0.000000</td>\n",
       "      <td>NaN</td>\n",
       "      <td>0.000000</td>\n",
       "      <td>NaN</td>\n",
       "      <td>NaN</td>\n",
       "    </tr>\n",
       "    <tr>\n",
       "      <th>25%</th>\n",
       "      <td>223.500000</td>\n",
       "      <td>0.000000</td>\n",
       "      <td>2.000000</td>\n",
       "      <td>NaN</td>\n",
       "      <td>NaN</td>\n",
       "      <td>20.125000</td>\n",
       "      <td>0.000000</td>\n",
       "      <td>0.000000</td>\n",
       "      <td>NaN</td>\n",
       "      <td>7.910400</td>\n",
       "      <td>NaN</td>\n",
       "      <td>NaN</td>\n",
       "    </tr>\n",
       "    <tr>\n",
       "      <th>50%</th>\n",
       "      <td>446.000000</td>\n",
       "      <td>0.000000</td>\n",
       "      <td>3.000000</td>\n",
       "      <td>NaN</td>\n",
       "      <td>NaN</td>\n",
       "      <td>28.000000</td>\n",
       "      <td>0.000000</td>\n",
       "      <td>0.000000</td>\n",
       "      <td>NaN</td>\n",
       "      <td>14.454200</td>\n",
       "      <td>NaN</td>\n",
       "      <td>NaN</td>\n",
       "    </tr>\n",
       "    <tr>\n",
       "      <th>75%</th>\n",
       "      <td>668.500000</td>\n",
       "      <td>1.000000</td>\n",
       "      <td>3.000000</td>\n",
       "      <td>NaN</td>\n",
       "      <td>NaN</td>\n",
       "      <td>38.000000</td>\n",
       "      <td>1.000000</td>\n",
       "      <td>0.000000</td>\n",
       "      <td>NaN</td>\n",
       "      <td>31.000000</td>\n",
       "      <td>NaN</td>\n",
       "      <td>NaN</td>\n",
       "    </tr>\n",
       "    <tr>\n",
       "      <th>max</th>\n",
       "      <td>891.000000</td>\n",
       "      <td>1.000000</td>\n",
       "      <td>3.000000</td>\n",
       "      <td>NaN</td>\n",
       "      <td>NaN</td>\n",
       "      <td>80.000000</td>\n",
       "      <td>8.000000</td>\n",
       "      <td>6.000000</td>\n",
       "      <td>NaN</td>\n",
       "      <td>512.329200</td>\n",
       "      <td>NaN</td>\n",
       "      <td>NaN</td>\n",
       "    </tr>\n",
       "  </tbody>\n",
       "</table>\n",
       "</div>"
      ],
      "text/plain": [
       "        PassengerId    Survived      Pclass                     Name   Sex  \\\n",
       "count    891.000000  891.000000  891.000000                      891   891   \n",
       "unique          NaN         NaN         NaN                      891     2   \n",
       "top             NaN         NaN         NaN  Braund, Mr. Owen Harris  male   \n",
       "freq            NaN         NaN         NaN                        1   577   \n",
       "mean     446.000000    0.383838    2.308642                      NaN   NaN   \n",
       "std      257.353842    0.486592    0.836071                      NaN   NaN   \n",
       "min        1.000000    0.000000    1.000000                      NaN   NaN   \n",
       "25%      223.500000    0.000000    2.000000                      NaN   NaN   \n",
       "50%      446.000000    0.000000    3.000000                      NaN   NaN   \n",
       "75%      668.500000    1.000000    3.000000                      NaN   NaN   \n",
       "max      891.000000    1.000000    3.000000                      NaN   NaN   \n",
       "\n",
       "               Age       SibSp       Parch  Ticket        Fare    Cabin  \\\n",
       "count   714.000000  891.000000  891.000000     891  891.000000      204   \n",
       "unique         NaN         NaN         NaN     681         NaN      147   \n",
       "top            NaN         NaN         NaN  347082         NaN  B96 B98   \n",
       "freq           NaN         NaN         NaN       7         NaN        4   \n",
       "mean     29.699118    0.523008    0.381594     NaN   32.204208      NaN   \n",
       "std      14.526497    1.102743    0.806057     NaN   49.693429      NaN   \n",
       "min       0.420000    0.000000    0.000000     NaN    0.000000      NaN   \n",
       "25%      20.125000    0.000000    0.000000     NaN    7.910400      NaN   \n",
       "50%      28.000000    0.000000    0.000000     NaN   14.454200      NaN   \n",
       "75%      38.000000    1.000000    0.000000     NaN   31.000000      NaN   \n",
       "max      80.000000    8.000000    6.000000     NaN  512.329200      NaN   \n",
       "\n",
       "       Embarked  \n",
       "count       889  \n",
       "unique        3  \n",
       "top           S  \n",
       "freq        644  \n",
       "mean        NaN  \n",
       "std         NaN  \n",
       "min         NaN  \n",
       "25%         NaN  \n",
       "50%         NaN  \n",
       "75%         NaN  \n",
       "max         NaN  "
      ]
     },
     "execution_count": 4,
     "metadata": {},
     "output_type": "execute_result"
    }
   ],
   "source": [
    "train.describe(include = 'all')"
   ]
  },
  {
   "cell_type": "markdown",
   "id": "5bab9aa5",
   "metadata": {
    "papermill": {
     "duration": 0.009123,
     "end_time": "2022-07-01T09:15:33.071225",
     "exception": false,
     "start_time": "2022-07-01T09:15:33.062102",
     "status": "completed"
    },
    "tags": []
   },
   "source": [
    "Encoding categorical variables - Sex - into numerical values"
   ]
  },
  {
   "cell_type": "code",
   "execution_count": 5,
   "id": "fc9746c1",
   "metadata": {
    "execution": {
     "iopub.execute_input": "2022-07-01T09:15:33.092775Z",
     "iopub.status.busy": "2022-07-01T09:15:33.091788Z",
     "iopub.status.idle": "2022-07-01T09:15:34.285744Z",
     "shell.execute_reply": "2022-07-01T09:15:34.284304Z"
    },
    "papermill": {
     "duration": 1.208469,
     "end_time": "2022-07-01T09:15:34.288877",
     "exception": false,
     "start_time": "2022-07-01T09:15:33.080408",
     "status": "completed"
    },
    "tags": []
   },
   "outputs": [],
   "source": [
    "from sklearn.preprocessing import OrdinalEncoder\n",
    "enc = OrdinalEncoder()"
   ]
  },
  {
   "cell_type": "code",
   "execution_count": 6,
   "id": "09d7dc31",
   "metadata": {
    "execution": {
     "iopub.execute_input": "2022-07-01T09:15:34.309889Z",
     "iopub.status.busy": "2022-07-01T09:15:34.309442Z",
     "iopub.status.idle": "2022-07-01T09:15:34.320962Z",
     "shell.execute_reply": "2022-07-01T09:15:34.319089Z"
    },
    "papermill": {
     "duration": 0.025444,
     "end_time": "2022-07-01T09:15:34.323756",
     "exception": false,
     "start_time": "2022-07-01T09:15:34.298312",
     "status": "completed"
    },
    "tags": []
   },
   "outputs": [
    {
     "name": "stdout",
     "output_type": "stream",
     "text": [
      "[array(['female', 'male'], dtype=object)]\n"
     ]
    }
   ],
   "source": [
    "train['Sex'] = enc.fit_transform(train.loc[:, train.columns == 'Sex'])\n",
    "print(enc.categories_)"
   ]
  },
  {
   "cell_type": "code",
   "execution_count": 7,
   "id": "220bcd73",
   "metadata": {
    "execution": {
     "iopub.execute_input": "2022-07-01T09:15:34.345381Z",
     "iopub.status.busy": "2022-07-01T09:15:34.344509Z",
     "iopub.status.idle": "2022-07-01T09:15:34.446807Z",
     "shell.execute_reply": "2022-07-01T09:15:34.445539Z"
    },
    "papermill": {
     "duration": 0.116569,
     "end_time": "2022-07-01T09:15:34.450074",
     "exception": false,
     "start_time": "2022-07-01T09:15:34.333505",
     "status": "completed"
    },
    "tags": []
   },
   "outputs": [],
   "source": [
    "from sklearn.model_selection import StratifiedShuffleSplit\n",
    "split = StratifiedShuffleSplit(test_size = 0.1, random_state = 3)\n",
    "for train_index, test_index in split.split(train, train[['Pclass', 'Sex']]):\n",
    "    strat_train_set = train.loc[train_index]\n",
    "    strat_test_set = train.loc[test_index]"
   ]
  },
  {
   "cell_type": "code",
   "execution_count": 8,
   "id": "32b702da",
   "metadata": {
    "execution": {
     "iopub.execute_input": "2022-07-01T09:15:34.470664Z",
     "iopub.status.busy": "2022-07-01T09:15:34.470238Z",
     "iopub.status.idle": "2022-07-01T09:15:34.477016Z",
     "shell.execute_reply": "2022-07-01T09:15:34.475569Z"
    },
    "papermill": {
     "duration": 0.020039,
     "end_time": "2022-07-01T09:15:34.479508",
     "exception": false,
     "start_time": "2022-07-01T09:15:34.459469",
     "status": "completed"
    },
    "tags": []
   },
   "outputs": [],
   "source": [
    "import matplotlib.pyplot as plt\n",
    "def hist_plot(data, feature, bins):\n",
    "    data[feature].hist(bins = bins)\n",
    "    plt.show()"
   ]
  },
  {
   "cell_type": "code",
   "execution_count": 9,
   "id": "06bf28b2",
   "metadata": {
    "execution": {
     "iopub.execute_input": "2022-07-01T09:15:34.501641Z",
     "iopub.status.busy": "2022-07-01T09:15:34.500592Z",
     "iopub.status.idle": "2022-07-01T09:15:34.522830Z",
     "shell.execute_reply": "2022-07-01T09:15:34.520918Z"
    },
    "papermill": {
     "duration": 0.036462,
     "end_time": "2022-07-01T09:15:34.526119",
     "exception": false,
     "start_time": "2022-07-01T09:15:34.489657",
     "status": "completed"
    },
    "tags": []
   },
   "outputs": [
    {
     "name": "stdout",
     "output_type": "stream",
     "text": [
      "(801, 11)\n"
     ]
    },
    {
     "data": {
      "text/html": [
       "<div>\n",
       "<style scoped>\n",
       "    .dataframe tbody tr th:only-of-type {\n",
       "        vertical-align: middle;\n",
       "    }\n",
       "\n",
       "    .dataframe tbody tr th {\n",
       "        vertical-align: top;\n",
       "    }\n",
       "\n",
       "    .dataframe thead th {\n",
       "        text-align: right;\n",
       "    }\n",
       "</style>\n",
       "<table border=\"1\" class=\"dataframe\">\n",
       "  <thead>\n",
       "    <tr style=\"text-align: right;\">\n",
       "      <th></th>\n",
       "      <th>PassengerId</th>\n",
       "      <th>Pclass</th>\n",
       "      <th>Name</th>\n",
       "      <th>Sex</th>\n",
       "      <th>Age</th>\n",
       "      <th>SibSp</th>\n",
       "      <th>Parch</th>\n",
       "      <th>Ticket</th>\n",
       "      <th>Fare</th>\n",
       "      <th>Cabin</th>\n",
       "      <th>Embarked</th>\n",
       "    </tr>\n",
       "  </thead>\n",
       "  <tbody>\n",
       "    <tr>\n",
       "      <th>842</th>\n",
       "      <td>843</td>\n",
       "      <td>1</td>\n",
       "      <td>Serepeca, Miss. Augusta</td>\n",
       "      <td>0.0</td>\n",
       "      <td>30.0</td>\n",
       "      <td>0</td>\n",
       "      <td>0</td>\n",
       "      <td>113798</td>\n",
       "      <td>31.0000</td>\n",
       "      <td>NaN</td>\n",
       "      <td>C</td>\n",
       "    </tr>\n",
       "    <tr>\n",
       "      <th>542</th>\n",
       "      <td>543</td>\n",
       "      <td>3</td>\n",
       "      <td>Andersson, Miss. Sigrid Elisabeth</td>\n",
       "      <td>0.0</td>\n",
       "      <td>11.0</td>\n",
       "      <td>4</td>\n",
       "      <td>2</td>\n",
       "      <td>347082</td>\n",
       "      <td>31.2750</td>\n",
       "      <td>NaN</td>\n",
       "      <td>S</td>\n",
       "    </tr>\n",
       "    <tr>\n",
       "      <th>425</th>\n",
       "      <td>426</td>\n",
       "      <td>3</td>\n",
       "      <td>Wiseman, Mr. Phillippe</td>\n",
       "      <td>1.0</td>\n",
       "      <td>NaN</td>\n",
       "      <td>0</td>\n",
       "      <td>0</td>\n",
       "      <td>A/4. 34244</td>\n",
       "      <td>7.2500</td>\n",
       "      <td>NaN</td>\n",
       "      <td>S</td>\n",
       "    </tr>\n",
       "    <tr>\n",
       "      <th>462</th>\n",
       "      <td>463</td>\n",
       "      <td>1</td>\n",
       "      <td>Gee, Mr. Arthur H</td>\n",
       "      <td>1.0</td>\n",
       "      <td>47.0</td>\n",
       "      <td>0</td>\n",
       "      <td>0</td>\n",
       "      <td>111320</td>\n",
       "      <td>38.5000</td>\n",
       "      <td>E63</td>\n",
       "      <td>S</td>\n",
       "    </tr>\n",
       "    <tr>\n",
       "      <th>50</th>\n",
       "      <td>51</td>\n",
       "      <td>3</td>\n",
       "      <td>Panula, Master. Juha Niilo</td>\n",
       "      <td>1.0</td>\n",
       "      <td>7.0</td>\n",
       "      <td>4</td>\n",
       "      <td>1</td>\n",
       "      <td>3101295</td>\n",
       "      <td>39.6875</td>\n",
       "      <td>NaN</td>\n",
       "      <td>S</td>\n",
       "    </tr>\n",
       "  </tbody>\n",
       "</table>\n",
       "</div>"
      ],
      "text/plain": [
       "     PassengerId  Pclass                               Name  Sex   Age  SibSp  \\\n",
       "842          843       1            Serepeca, Miss. Augusta  0.0  30.0      0   \n",
       "542          543       3  Andersson, Miss. Sigrid Elisabeth  0.0  11.0      4   \n",
       "425          426       3             Wiseman, Mr. Phillippe  1.0   NaN      0   \n",
       "462          463       1                  Gee, Mr. Arthur H  1.0  47.0      0   \n",
       "50            51       3         Panula, Master. Juha Niilo  1.0   7.0      4   \n",
       "\n",
       "     Parch      Ticket     Fare Cabin Embarked  \n",
       "842      0      113798  31.0000   NaN        C  \n",
       "542      2      347082  31.2750   NaN        S  \n",
       "425      0  A/4. 34244   7.2500   NaN        S  \n",
       "462      0      111320  38.5000   E63        S  \n",
       "50       1     3101295  39.6875   NaN        S  "
      ]
     },
     "execution_count": 9,
     "metadata": {},
     "output_type": "execute_result"
    }
   ],
   "source": [
    "trainx = strat_train_set.loc[:, strat_train_set.columns != 'Survived']\n",
    "testx = strat_test_set.loc[:, strat_test_set.columns != 'Survived']\n",
    "print(trainx.shape)\n",
    "trainx.head()"
   ]
  },
  {
   "cell_type": "code",
   "execution_count": 10,
   "id": "e9220d6b",
   "metadata": {
    "execution": {
     "iopub.execute_input": "2022-07-01T09:15:34.548375Z",
     "iopub.status.busy": "2022-07-01T09:15:34.547737Z",
     "iopub.status.idle": "2022-07-01T09:15:34.560145Z",
     "shell.execute_reply": "2022-07-01T09:15:34.559038Z"
    },
    "papermill": {
     "duration": 0.025983,
     "end_time": "2022-07-01T09:15:34.562414",
     "exception": false,
     "start_time": "2022-07-01T09:15:34.536431",
     "status": "completed"
    },
    "tags": []
   },
   "outputs": [
    {
     "name": "stdout",
     "output_type": "stream",
     "text": [
      "(801, 1)\n"
     ]
    },
    {
     "data": {
      "text/html": [
       "<div>\n",
       "<style scoped>\n",
       "    .dataframe tbody tr th:only-of-type {\n",
       "        vertical-align: middle;\n",
       "    }\n",
       "\n",
       "    .dataframe tbody tr th {\n",
       "        vertical-align: top;\n",
       "    }\n",
       "\n",
       "    .dataframe thead th {\n",
       "        text-align: right;\n",
       "    }\n",
       "</style>\n",
       "<table border=\"1\" class=\"dataframe\">\n",
       "  <thead>\n",
       "    <tr style=\"text-align: right;\">\n",
       "      <th></th>\n",
       "      <th>Survived</th>\n",
       "    </tr>\n",
       "  </thead>\n",
       "  <tbody>\n",
       "    <tr>\n",
       "      <th>842</th>\n",
       "      <td>1</td>\n",
       "    </tr>\n",
       "    <tr>\n",
       "      <th>542</th>\n",
       "      <td>0</td>\n",
       "    </tr>\n",
       "    <tr>\n",
       "      <th>425</th>\n",
       "      <td>0</td>\n",
       "    </tr>\n",
       "    <tr>\n",
       "      <th>462</th>\n",
       "      <td>0</td>\n",
       "    </tr>\n",
       "    <tr>\n",
       "      <th>50</th>\n",
       "      <td>0</td>\n",
       "    </tr>\n",
       "  </tbody>\n",
       "</table>\n",
       "</div>"
      ],
      "text/plain": [
       "     Survived\n",
       "842         1\n",
       "542         0\n",
       "425         0\n",
       "462         0\n",
       "50          0"
      ]
     },
     "execution_count": 10,
     "metadata": {},
     "output_type": "execute_result"
    }
   ],
   "source": [
    "trainy = strat_train_set.loc[:,'Survived'].to_frame()\n",
    "testy = strat_test_set.loc[:, 'Survived'].to_frame()\n",
    "print(trainy.shape)\n",
    "trainy.head()"
   ]
  },
  {
   "cell_type": "markdown",
   "id": "afd0c841",
   "metadata": {
    "papermill": {
     "duration": 0.010373,
     "end_time": "2022-07-01T09:15:34.582893",
     "exception": false,
     "start_time": "2022-07-01T09:15:34.572520",
     "status": "completed"
    },
    "tags": []
   },
   "source": [
    "Testing the distribution of Sex b/w train and test set"
   ]
  },
  {
   "cell_type": "code",
   "execution_count": 11,
   "id": "b0220cc7",
   "metadata": {
    "execution": {
     "iopub.execute_input": "2022-07-01T09:15:34.605146Z",
     "iopub.status.busy": "2022-07-01T09:15:34.604507Z",
     "iopub.status.idle": "2022-07-01T09:15:34.803426Z",
     "shell.execute_reply": "2022-07-01T09:15:34.801993Z"
    },
    "papermill": {
     "duration": 0.21289,
     "end_time": "2022-07-01T09:15:34.806231",
     "exception": false,
     "start_time": "2022-07-01T09:15:34.593341",
     "status": "completed"
    },
    "tags": []
   },
   "outputs": [
    {
     "data": {
      "image/png": "[encoded data removed]",
      "text/plain": [
       "<Figure size 432x288 with 1 Axes>"
      ]
     },
     "metadata": {
      "needs_background": "light"
     },
     "output_type": "display_data"
    }
   ],
   "source": [
    "hist_plot(testx, 'Sex', 3)"
   ]
  },
  {
   "cell_type": "code",
   "execution_count": 12,
   "id": "9d77b36a",
   "metadata": {
    "execution": {
     "iopub.execute_input": "2022-07-01T09:15:34.828981Z",
     "iopub.status.busy": "2022-07-01T09:15:34.828523Z",
     "iopub.status.idle": "2022-07-01T09:15:34.971667Z",
     "shell.execute_reply": "2022-07-01T09:15:34.969969Z"
    },
    "papermill": {
     "duration": 0.158649,
     "end_time": "2022-07-01T09:15:34.975142",
     "exception": false,
     "start_time": "2022-07-01T09:15:34.816493",
     "status": "completed"
    },
    "tags": []
   },
   "outputs": [
    {
     "data": {
      "image/png": "[encoded data removed]",
      "text/plain": [
       "<Figure size 432x288 with 1 Axes>"
      ]
     },
     "metadata": {
      "needs_background": "light"
     },
     "output_type": "display_data"
    }
   ],
   "source": [
    "hist_plot(trainx, 'Sex', 3)"
   ]
  },
  {
   "cell_type": "markdown",
   "id": "7789c4f5",
   "metadata": {
    "papermill": {
     "duration": 0.00979,
     "end_time": "2022-07-01T09:15:34.997943",
     "exception": false,
     "start_time": "2022-07-01T09:15:34.988153",
     "status": "completed"
    },
    "tags": []
   },
   "source": [
    "Finding correlation b/w features and target variable('Survived')"
   ]
  },
  {
   "cell_type": "code",
   "execution_count": 13,
   "id": "fa70e15e",
   "metadata": {
    "execution": {
     "iopub.execute_input": "2022-07-01T09:15:35.020616Z",
     "iopub.status.busy": "2022-07-01T09:15:35.019941Z",
     "iopub.status.idle": "2022-07-01T09:15:35.030952Z",
     "shell.execute_reply": "2022-07-01T09:15:35.030068Z"
    },
    "papermill": {
     "duration": 0.025186,
     "end_time": "2022-07-01T09:15:35.033188",
     "exception": false,
     "start_time": "2022-07-01T09:15:35.008002",
     "status": "completed"
    },
    "tags": []
   },
   "outputs": [
    {
     "data": {
      "text/plain": [
       "PassengerId   -0.005007\n",
       "Survived       1.000000\n",
       "Pclass        -0.338481\n",
       "Sex           -0.543351\n",
       "Age           -0.077221\n",
       "SibSp         -0.035322\n",
       "Parch          0.081629\n",
       "Fare           0.257307\n",
       "Name: Survived, dtype: float64"
      ]
     },
     "execution_count": 13,
     "metadata": {},
     "output_type": "execute_result"
    }
   ],
   "source": [
    "train.corr()['Survived']"
   ]
  },
  {
   "cell_type": "markdown",
   "id": "8f33f328",
   "metadata": {
    "papermill": {
     "duration": 0.010062,
     "end_time": "2022-07-01T09:15:35.053551",
     "exception": false,
     "start_time": "2022-07-01T09:15:35.043489",
     "status": "completed"
    },
    "tags": []
   },
   "source": [
    "Valuable correlation of features with survival: Pclass, Embarked and Sex - negatively correlated; Fare - positively correlated; but not to significant extent "
   ]
  },
  {
   "cell_type": "markdown",
   "id": "d69903aa",
   "metadata": {
    "papermill": {
     "duration": 0.009762,
     "end_time": "2022-07-01T09:15:35.073932",
     "exception": false,
     "start_time": "2022-07-01T09:15:35.064170",
     "status": "completed"
    },
    "tags": []
   },
   "source": [
    "Building a simple Logistic Regression model using scikit learn library"
   ]
  },
  {
   "cell_type": "code",
   "execution_count": 14,
   "id": "997d9245",
   "metadata": {
    "execution": {
     "iopub.execute_input": "2022-07-01T09:15:35.097775Z",
     "iopub.status.busy": "2022-07-01T09:15:35.097125Z",
     "iopub.status.idle": "2022-07-01T09:15:35.203884Z",
     "shell.execute_reply": "2022-07-01T09:15:35.202714Z"
    },
    "papermill": {
     "duration": 0.122368,
     "end_time": "2022-07-01T09:15:35.206920",
     "exception": false,
     "start_time": "2022-07-01T09:15:35.084552",
     "status": "completed"
    },
    "tags": []
   },
   "outputs": [],
   "source": [
    "from sklearn.linear_model import LogisticRegression\n",
    "clf = LogisticRegression(random_state = 3).fit(trainx[['Pclass', 'Sex', 'Fare']], trainy.values.ravel())"
   ]
  },
  {
   "cell_type": "code",
   "execution_count": 15,
   "id": "54886d56",
   "metadata": {
    "execution": {
     "iopub.execute_input": "2022-07-01T09:15:35.229651Z",
     "iopub.status.busy": "2022-07-01T09:15:35.229221Z",
     "iopub.status.idle": "2022-07-01T09:15:35.239236Z",
     "shell.execute_reply": "2022-07-01T09:15:35.237737Z"
    },
    "papermill": {
     "duration": 0.02444,
     "end_time": "2022-07-01T09:15:35.241746",
     "exception": false,
     "start_time": "2022-07-01T09:15:35.217306",
     "status": "completed"
    },
    "tags": []
   },
   "outputs": [],
   "source": [
    "prediction = clf.predict(testx[['Pclass', 'Sex', 'Fare']])"
   ]
  },
  {
   "cell_type": "code",
   "execution_count": 16,
   "id": "56112926",
   "metadata": {
    "execution": {
     "iopub.execute_input": "2022-07-01T09:15:35.264626Z",
     "iopub.status.busy": "2022-07-01T09:15:35.264184Z",
     "iopub.status.idle": "2022-07-01T09:15:35.275247Z",
     "shell.execute_reply": "2022-07-01T09:15:35.273737Z"
    },
    "papermill": {
     "duration": 0.025336,
     "end_time": "2022-07-01T09:15:35.277526",
     "exception": false,
     "start_time": "2022-07-01T09:15:35.252190",
     "status": "completed"
    },
    "tags": []
   },
   "outputs": [
    {
     "data": {
      "text/plain": [
       "0.8333333333333334"
      ]
     },
     "execution_count": 16,
     "metadata": {},
     "output_type": "execute_result"
    }
   ],
   "source": [
    "from sklearn.metrics import accuracy_score\n",
    "accuracy = accuracy_score(testy, prediction, normalize = True)\n",
    "accuracy"
   ]
  },
  {
   "cell_type": "markdown",
   "id": "f72f4161",
   "metadata": {
    "papermill": {
     "duration": 0.010178,
     "end_time": "2022-07-01T09:15:35.298221",
     "exception": false,
     "start_time": "2022-07-01T09:15:35.288043",
     "status": "completed"
    },
    "tags": []
   },
   "source": [
    "Accuracy of a simple logistic regression employing three features Pclass, Sex and Fare"
   ]
  },
  {
   "cell_type": "code",
   "execution_count": 17,
   "id": "9d177207",
   "metadata": {
    "execution": {
     "iopub.execute_input": "2022-07-01T09:15:35.320963Z",
     "iopub.status.busy": "2022-07-01T09:15:35.320528Z",
     "iopub.status.idle": "2022-07-01T09:15:35.349192Z",
     "shell.execute_reply": "2022-07-01T09:15:35.347534Z"
    },
    "papermill": {
     "duration": 0.04387,
     "end_time": "2022-07-01T09:15:35.352420",
     "exception": false,
     "start_time": "2022-07-01T09:15:35.308550",
     "status": "completed"
    },
    "tags": []
   },
   "outputs": [
    {
     "name": "stdout",
     "output_type": "stream",
     "text": [
      "(418, 11)\n"
     ]
    },
    {
     "data": {
      "text/html": [
       "<div>\n",
       "<style scoped>\n",
       "    .dataframe tbody tr th:only-of-type {\n",
       "        vertical-align: middle;\n",
       "    }\n",
       "\n",
       "    .dataframe tbody tr th {\n",
       "        vertical-align: top;\n",
       "    }\n",
       "\n",
       "    .dataframe thead th {\n",
       "        text-align: right;\n",
       "    }\n",
       "</style>\n",
       "<table border=\"1\" class=\"dataframe\">\n",
       "  <thead>\n",
       "    <tr style=\"text-align: right;\">\n",
       "      <th></th>\n",
       "      <th>PassengerId</th>\n",
       "      <th>Pclass</th>\n",
       "      <th>Name</th>\n",
       "      <th>Sex</th>\n",
       "      <th>Age</th>\n",
       "      <th>SibSp</th>\n",
       "      <th>Parch</th>\n",
       "      <th>Ticket</th>\n",
       "      <th>Fare</th>\n",
       "      <th>Cabin</th>\n",
       "      <th>Embarked</th>\n",
       "    </tr>\n",
       "  </thead>\n",
       "  <tbody>\n",
       "    <tr>\n",
       "      <th>0</th>\n",
       "      <td>892</td>\n",
       "      <td>3</td>\n",
       "      <td>Kelly, Mr. James</td>\n",
       "      <td>male</td>\n",
       "      <td>34.5</td>\n",
       "      <td>0</td>\n",
       "      <td>0</td>\n",
       "      <td>330911</td>\n",
       "      <td>7.8292</td>\n",
       "      <td>NaN</td>\n",
       "      <td>Q</td>\n",
       "    </tr>\n",
       "    <tr>\n",
       "      <th>1</th>\n",
       "      <td>893</td>\n",
       "      <td>3</td>\n",
       "      <td>Wilkes, Mrs. James (Ellen Needs)</td>\n",
       "      <td>female</td>\n",
       "      <td>47.0</td>\n",
       "      <td>1</td>\n",
       "      <td>0</td>\n",
       "      <td>363272</td>\n",
       "      <td>7.0000</td>\n",
       "      <td>NaN</td>\n",
       "      <td>S</td>\n",
       "    </tr>\n",
       "    <tr>\n",
       "      <th>2</th>\n",
       "      <td>894</td>\n",
       "      <td>2</td>\n",
       "      <td>Myles, Mr. Thomas Francis</td>\n",
       "      <td>male</td>\n",
       "      <td>62.0</td>\n",
       "      <td>0</td>\n",
       "      <td>0</td>\n",
       "      <td>240276</td>\n",
       "      <td>9.6875</td>\n",
       "      <td>NaN</td>\n",
       "      <td>Q</td>\n",
       "    </tr>\n",
       "    <tr>\n",
       "      <th>3</th>\n",
       "      <td>895</td>\n",
       "      <td>3</td>\n",
       "      <td>Wirz, Mr. Albert</td>\n",
       "      <td>male</td>\n",
       "      <td>27.0</td>\n",
       "      <td>0</td>\n",
       "      <td>0</td>\n",
       "      <td>315154</td>\n",
       "      <td>8.6625</td>\n",
       "      <td>NaN</td>\n",
       "      <td>S</td>\n",
       "    </tr>\n",
       "    <tr>\n",
       "      <th>4</th>\n",
       "      <td>896</td>\n",
       "      <td>3</td>\n",
       "      <td>Hirvonen, Mrs. Alexander (Helga E Lindqvist)</td>\n",
       "      <td>female</td>\n",
       "      <td>22.0</td>\n",
       "      <td>1</td>\n",
       "      <td>1</td>\n",
       "      <td>3101298</td>\n",
       "      <td>12.2875</td>\n",
       "      <td>NaN</td>\n",
       "      <td>S</td>\n",
       "    </tr>\n",
       "  </tbody>\n",
       "</table>\n",
       "</div>"
      ],
      "text/plain": [
       "   PassengerId  Pclass                                          Name     Sex  \\\n",
       "0          892       3                              Kelly, Mr. James    male   \n",
       "1          893       3              Wilkes, Mrs. James (Ellen Needs)  female   \n",
       "2          894       2                     Myles, Mr. Thomas Francis    male   \n",
       "3          895       3                              Wirz, Mr. Albert    male   \n",
       "4          896       3  Hirvonen, Mrs. Alexander (Helga E Lindqvist)  female   \n",
       "\n",
       "    Age  SibSp  Parch   Ticket     Fare Cabin Embarked  \n",
       "0  34.5      0      0   330911   7.8292   NaN        Q  \n",
       "1  47.0      1      0   363272   7.0000   NaN        S  \n",
       "2  62.0      0      0   240276   9.6875   NaN        Q  \n",
       "3  27.0      0      0   315154   8.6625   NaN        S  \n",
       "4  22.0      1      1  3101298  12.2875   NaN        S  "
      ]
     },
     "execution_count": 17,
     "metadata": {},
     "output_type": "execute_result"
    }
   ],
   "source": [
    "test = pd.read_csv('/kaggle/input/titanic/test.csv')\n",
    "print(test.shape)\n",
    "test.head()"
   ]
  },
  {
   "cell_type": "code",
   "execution_count": 18,
   "id": "2233fb3e",
   "metadata": {
    "execution": {
     "iopub.execute_input": "2022-07-01T09:15:35.376263Z",
     "iopub.status.busy": "2022-07-01T09:15:35.375582Z",
     "iopub.status.idle": "2022-07-01T09:15:35.402956Z",
     "shell.execute_reply": "2022-07-01T09:15:35.401437Z"
    },
    "papermill": {
     "duration": 0.042395,
     "end_time": "2022-07-01T09:15:35.405938",
     "exception": false,
     "start_time": "2022-07-01T09:15:35.363543",
     "status": "completed"
    },
    "tags": []
   },
   "outputs": [],
   "source": [
    "test_stats = test.describe(include = 'all')"
   ]
  },
  {
   "cell_type": "code",
   "execution_count": 19,
   "id": "2ff42700",
   "metadata": {
    "execution": {
     "iopub.execute_input": "2022-07-01T09:15:35.429651Z",
     "iopub.status.busy": "2022-07-01T09:15:35.428877Z",
     "iopub.status.idle": "2022-07-01T09:15:35.435975Z",
     "shell.execute_reply": "2022-07-01T09:15:35.435117Z"
    },
    "papermill": {
     "duration": 0.021537,
     "end_time": "2022-07-01T09:15:35.438294",
     "exception": false,
     "start_time": "2022-07-01T09:15:35.416757",
     "status": "completed"
    },
    "tags": []
   },
   "outputs": [],
   "source": [
    "def prediction(test):\n",
    "    test['Sex'] = enc.fit_transform(test.loc[:, test.columns == 'Sex'])\n",
    "    test['Pclass'].fillna(test['Pclass'].mode(), inplace = True)\n",
    "    test['Sex'].fillna(test['Sex'].mode(), inplace = True)\n",
    "    test['Fare'].fillna(test['Fare'].mean(), inplace = True)\n",
    "    predict = clf.predict(test[['Pclass', 'Sex', 'Fare']])\n",
    "    return predict"
   ]
  },
  {
   "cell_type": "code",
   "execution_count": 20,
   "id": "19ae5721",
   "metadata": {
    "execution": {
     "iopub.execute_input": "2022-07-01T09:15:35.462263Z",
     "iopub.status.busy": "2022-07-01T09:15:35.461540Z",
     "iopub.status.idle": "2022-07-01T09:15:35.478994Z",
     "shell.execute_reply": "2022-07-01T09:15:35.478116Z"
    },
    "papermill": {
     "duration": 0.032112,
     "end_time": "2022-07-01T09:15:35.481278",
     "exception": false,
     "start_time": "2022-07-01T09:15:35.449166",
     "status": "completed"
    },
    "tags": []
   },
   "outputs": [
    {
     "data": {
      "text/plain": [
       "array([0, 1, 0, 0, 1, 0, 1, 0, 1, 0, 0, 0, 1, 0, 1, 1, 0, 0, 1, 1, 0, 0,\n",
       "       1, 0, 1, 0, 1, 0, 0, 0, 0, 0, 1, 1, 0, 0, 1, 1, 0, 0, 0, 0, 0, 1,\n",
       "       1, 0, 0, 0, 1, 1, 0, 0, 1, 1, 0, 0, 0, 0, 0, 1, 0, 0, 0, 1, 1, 1,\n",
       "       1, 0, 0, 1, 1, 0, 1, 0, 1, 0, 0, 1, 0, 1, 0, 1, 0, 0, 0, 0, 1, 1,\n",
       "       1, 0, 1, 0, 1, 0, 0, 0, 1, 0, 1, 0, 1, 0, 0, 0, 1, 0, 0, 0, 0, 0,\n",
       "       0, 1, 1, 1, 1, 0, 0, 1, 0, 1, 1, 0, 1, 0, 0, 1, 0, 1, 0, 0, 0, 0,\n",
       "       1, 0, 0, 0, 0, 0, 1, 0, 1, 1, 1, 0, 0, 0, 0, 0, 0, 0, 1, 0, 0, 1,\n",
       "       0, 0, 1, 1, 0, 1, 1, 0, 1, 0, 0, 1, 0, 0, 1, 1, 0, 0, 0, 0, 0, 1,\n",
       "       1, 0, 1, 1, 0, 0, 1, 0, 1, 0, 1, 0, 1, 0, 0, 0, 0, 0, 0, 0, 0, 1,\n",
       "       0, 1, 1, 0, 1, 1, 0, 0, 1, 0, 1, 0, 0, 0, 0, 1, 1, 0, 1, 0, 1, 0,\n",
       "       1, 0, 1, 0, 1, 1, 0, 1, 0, 0, 0, 1, 0, 0, 0, 0, 0, 0, 1, 1, 1, 1,\n",
       "       0, 0, 0, 0, 1, 0, 1, 1, 1, 0, 0, 0, 0, 0, 0, 0, 1, 0, 0, 0, 1, 1,\n",
       "       0, 0, 0, 0, 1, 0, 0, 0, 1, 1, 0, 1, 0, 0, 0, 0, 1, 0, 1, 1, 1, 0,\n",
       "       0, 0, 0, 0, 0, 1, 0, 0, 0, 0, 1, 0, 0, 0, 0, 0, 0, 0, 1, 1, 0, 0,\n",
       "       0, 1, 0, 0, 0, 1, 1, 1, 0, 0, 0, 0, 0, 0, 0, 0, 1, 0, 1, 0, 0, 0,\n",
       "       1, 0, 0, 1, 0, 0, 0, 0, 0, 0, 0, 0, 0, 1, 0, 1, 0, 1, 0, 1, 1, 0,\n",
       "       0, 0, 1, 0, 1, 0, 0, 1, 0, 1, 1, 0, 1, 1, 0, 1, 1, 0, 0, 1, 0, 0,\n",
       "       1, 1, 1, 0, 0, 0, 0, 0, 1, 1, 0, 1, 0, 0, 0, 0, 0, 1, 0, 0, 0, 1,\n",
       "       0, 1, 0, 0, 1, 0, 1, 0, 0, 0, 0, 0, 1, 1, 1, 1, 1, 0, 1, 0, 0, 0])"
      ]
     },
     "execution_count": 20,
     "metadata": {},
     "output_type": "execute_result"
    }
   ],
   "source": [
    "test_predictions = prediction(test)\n",
    "test_predictions"
   ]
  },
  {
   "cell_type": "markdown",
   "id": "538bfcd8",
   "metadata": {
    "papermill": {
     "duration": 0.010561,
     "end_time": "2022-07-01T09:15:35.503023",
     "exception": false,
     "start_time": "2022-07-01T09:15:35.492462",
     "status": "completed"
    },
    "tags": []
   },
   "source": [
    "Creating submission file"
   ]
  },
  {
   "cell_type": "code",
   "execution_count": 21,
   "id": "87edbc34",
   "metadata": {
    "execution": {
     "iopub.execute_input": "2022-07-01T09:15:35.526695Z",
     "iopub.status.busy": "2022-07-01T09:15:35.525956Z",
     "iopub.status.idle": "2022-07-01T09:15:35.530622Z",
     "shell.execute_reply": "2022-07-01T09:15:35.529834Z"
    },
    "papermill": {
     "duration": 0.01919,
     "end_time": "2022-07-01T09:15:35.533049",
     "exception": false,
     "start_time": "2022-07-01T09:15:35.513859",
     "status": "completed"
    },
    "tags": []
   },
   "outputs": [],
   "source": [
    "submission = pd.DataFrame()"
   ]
  },
  {
   "cell_type": "code",
   "execution_count": 22,
   "id": "28d3d3c5",
   "metadata": {
    "execution": {
     "iopub.execute_input": "2022-07-01T09:15:35.557822Z",
     "iopub.status.busy": "2022-07-01T09:15:35.556912Z",
     "iopub.status.idle": "2022-07-01T09:15:35.567829Z",
     "shell.execute_reply": "2022-07-01T09:15:35.566818Z"
    },
    "papermill": {
     "duration": 0.026236,
     "end_time": "2022-07-01T09:15:35.570372",
     "exception": false,
     "start_time": "2022-07-01T09:15:35.544136",
     "status": "completed"
    },
    "tags": []
   },
   "outputs": [],
   "source": [
    "\n",
    "submission['PassengerId'] = test['PassengerId']\n",
    "submission['Survived'] = test_predictions\n",
    "submission.to_csv(\"submission.csv\", index = False)"
   ]
  },
  {
   "cell_type": "code",
   "execution_count": null,
   "id": "e6de4592",
   "metadata": {
    "papermill": {
     "duration": 0.01058,
     "end_time": "2022-07-01T09:15:35.592117",
     "exception": false,
     "start_time": "2022-07-01T09:15:35.581537",
     "status": "completed"
    },
    "tags": []
   },
   "outputs": [],
   "source": []
  }
 ],
 "metadata": {
  "kernelspec": {
   "display_name": "Python 3",
   "language": "python",
   "name": "python3"
  },
  "language_info": {
   "codemirror_mode": {
    "name": "ipython",
    "version": 3
   },
   "file_extension": ".py",
   "mimetype": "text/x-python",
   "name": "python",
   "nbconvert_exporter": "python",
   "pygments_lexer": "ipython3",
   "version": "3.7.12"
  },
  "papermill": {
   "default_parameters": {},
   "duration": 14.63608,
   "end_time": "2022-07-01T09:15:36.526420",
   "environment_variables": {},
   "exception": null,
   "input_path": "__notebook__.ipynb",
   "output_path": "__notebook__.ipynb",
   "parameters": {},
   "start_time": "2022-07-01T09:15:21.890340",
   "version": "2.3.4"
  }
 },
 "nbformat": 4,
 "nbformat_minor": 5
}
