{
 "cells": [
  {
   "cell_type": "code",
   "execution_count": 1,
   "id": "a08ef39f",
   "metadata": {
    "_cell_guid": "b1076dfc-b9ad-4769-8c92-a6c4dae69d19",
    "_uuid": "8f2839f25d086af736a60e9eeb907d3b93b6e0e5",
    "execution": {
     "iopub.execute_input": "2022-07-01T07:03:04.840585Z",
     "iopub.status.busy": "2022-07-01T07:03:04.840101Z",
     "iopub.status.idle": "2022-07-01T07:03:04.856032Z",
     "shell.execute_reply": "2022-07-01T07:03:04.854893Z"
    },
    "papermill": {
     "duration": 0.030537,
     "end_time": "2022-07-01T07:03:04.858703",
     "exception": false,
     "start_time": "2022-07-01T07:03:04.828166",
     "status": "completed"
    },
    "tags": []
   },
   "outputs": [
    {
     "name": "stdout",
     "output_type": "stream",
     "text": [
      "/kaggle/input/titanic/train.csv\n",
      "/kaggle/input/titanic/test.csv\n",
      "/kaggle/input/titanic/gender_submission.csv\n"
     ]
    }
   ],
   "source": [
    "# This Python 3 environment comes with many helpful analytics libraries installed\n",
    "# It is defined by the kaggle/python Docker image: https://github.com/kaggle/docker-python\n",
    "# For example, here's several helpful packages to load\n",
    "\n",
    "import numpy as np # linear algebra\n",
    "import pandas as pd # data processing, CSV file I/O (e.g. pd.read_csv)\n",
    "\n",
    "# Input data files are available in the read-only \"../input/\" directory\n",
    "# For example, running this (by clicking run or pressing Shift+Enter) will list all files under the input directory\n",
    "\n",
    "import os\n",
    "for dirname, _, filenames in os.walk('/kaggle/input'):\n",
    "    for filename in filenames:\n",
    "        print(os.path.join(dirname, filename))\n",
    "\n",
    "# You can write up to 20GB to the current directory (/kaggle/working/) that gets preserved as output when you create a version using \"Save & Run All\" \n",
    "# You can also write temporary files to /kaggle/temp/, but they won't be saved outside of the current session"
   ]
  },
  {
   "cell_type": "code",
   "execution_count": 2,
   "id": "523658b9",
   "metadata": {
    "execution": {
     "iopub.execute_input": "2022-07-01T07:03:04.879940Z",
     "iopub.status.busy": "2022-07-01T07:03:04.879245Z",
     "iopub.status.idle": "2022-07-01T07:03:04.888728Z",
     "shell.execute_reply": "2022-07-01T07:03:04.887584Z"
    },
    "papermill": {
     "duration": 0.022958,
     "end_time": "2022-07-01T07:03:04.890961",
     "exception": false,
     "start_time": "2022-07-01T07:03:04.868003",
     "status": "completed"
    },
    "tags": []
   },
   "outputs": [
    {
     "data": {
      "text/plain": [
       "['titanic']"
      ]
     },
     "execution_count": 2,
     "metadata": {},
     "output_type": "execute_result"
    }
   ],
   "source": [
    "os.listdir('/kaggle/input/')"
   ]
  },
  {
   "cell_type": "markdown",
   "id": "6cf03282",
   "metadata": {
    "papermill": {
     "duration": 0.008892,
     "end_time": "2022-07-01T07:03:04.909489",
     "exception": false,
     "start_time": "2022-07-01T07:03:04.900597",
     "status": "completed"
    },
    "tags": []
   },
   "source": [
    "Importing the training set"
   ]
  },
  {
   "cell_type": "code",
   "execution_count": 3,
   "id": "dfd76685",
   "metadata": {
    "execution": {
     "iopub.execute_input": "2022-07-01T07:03:04.930489Z",
     "iopub.status.busy": "2022-07-01T07:03:04.929790Z",
     "iopub.status.idle": "2022-07-01T07:03:04.968741Z",
     "shell.execute_reply": "2022-07-01T07:03:04.966683Z"
    },
    "papermill": {
     "duration": 0.052451,
     "end_time": "2022-07-01T07:03:04.971189",
     "exception": false,
     "start_time": "2022-07-01T07:03:04.918738",
     "status": "completed"
    },
    "tags": []
   },
   "outputs": [
    {
     "name": "stdout",
     "output_type": "stream",
     "text": [
      "(891, 12)\n"
     ]
    },
    {
     "data": {
      "text/html": [
       "<div>\n",
       "<style scoped>\n",
       "    .dataframe tbody tr th:only-of-type {\n",
       "        vertical-align: middle;\n",
       "    }\n",
       "\n",
       "    .dataframe tbody tr th {\n",
       "        vertical-align: top;\n",
       "    }\n",
       "\n",
       "    .dataframe thead th {\n",
       "        text-align: right;\n",
       "    }\n",
       "</style>\n",
       "<table border=\"1\" class=\"dataframe\">\n",
       "  <thead>\n",
       "    <tr style=\"text-align: right;\">\n",
       "      <th></th>\n",
       "      <th>PassengerId</th>\n",
       "      <th>Survived</th>\n",
       "      <th>Pclass</th>\n",
       "      <th>Name</th>\n",
       "      <th>Sex</th>\n",
       "      <th>Age</th>\n",
       "      <th>SibSp</th>\n",
       "      <th>Parch</th>\n",
       "      <th>Ticket</th>\n",
       "      <th>Fare</th>\n",
       "      <th>Cabin</th>\n",
       "      <th>Embarked</th>\n",
       "    </tr>\n",
       "  </thead>\n",
       "  <tbody>\n",
       "    <tr>\n",
       "      <th>0</th>\n",
       "      <td>1</td>\n",
       "      <td>0</td>\n",
       "      <td>3</td>\n",
       "      <td>Braund, Mr. Owen Harris</td>\n",
       "      <td>male</td>\n",
       "      <td>22.0</td>\n",
       "      <td>1</td>\n",
       "      <td>0</td>\n",
       "      <td>A/5 21171</td>\n",
       "      <td>7.2500</td>\n",
       "      <td>NaN</td>\n",
       "      <td>S</td>\n",
       "    </tr>\n",
       "    <tr>\n",
       "      <th>1</th>\n",
       "      <td>2</td>\n",
       "      <td>1</td>\n",
       "      <td>1</td>\n",
       "      <td>Cumings, Mrs. John Bradley (Florence Briggs Th...</td>\n",
       "      <td>female</td>\n",
       "      <td>38.0</td>\n",
       "      <td>1</td>\n",
       "      <td>0</td>\n",
       "      <td>PC 17599</td>\n",
       "      <td>71.2833</td>\n",
       "      <td>C85</td>\n",
       "      <td>C</td>\n",
       "    </tr>\n",
       "    <tr>\n",
       "      <th>2</th>\n",
       "      <td>3</td>\n",
       "      <td>1</td>\n",
       "      <td>3</td>\n",
       "      <td>Heikkinen, Miss. Laina</td>\n",
       "      <td>female</td>\n",
       "      <td>26.0</td>\n",
       "      <td>0</td>\n",
       "      <td>0</td>\n",
       "      <td>STON/O2. 3101282</td>\n",
       "      <td>7.9250</td>\n",
       "      <td>NaN</td>\n",
       "      <td>S</td>\n",
       "    </tr>\n",
       "    <tr>\n",
       "      <th>3</th>\n",
       "      <td>4</td>\n",
       "      <td>1</td>\n",
       "      <td>1</td>\n",
       "      <td>Futrelle, Mrs. Jacques Heath (Lily May Peel)</td>\n",
       "      <td>female</td>\n",
       "      <td>35.0</td>\n",
       "      <td>1</td>\n",
       "      <td>0</td>\n",
       "      <td>113803</td>\n",
       "      <td>53.1000</td>\n",
       "      <td>C123</td>\n",
       "      <td>S</td>\n",
       "    </tr>\n",
       "    <tr>\n",
       "      <th>4</th>\n",
       "      <td>5</td>\n",
       "      <td>0</td>\n",
       "      <td>3</td>\n",
       "      <td>Allen, Mr. William Henry</td>\n",
       "      <td>male</td>\n",
       "      <td>35.0</td>\n",
       "      <td>0</td>\n",
       "      <td>0</td>\n",
       "      <td>373450</td>\n",
       "      <td>8.0500</td>\n",
       "      <td>NaN</td>\n",
       "      <td>S</td>\n",
       "    </tr>\n",
       "  </tbody>\n",
       "</table>\n",
       "</div>"
      ],
      "text/plain": [
       "   PassengerId  Survived  Pclass  \\\n",
       "0            1         0       3   \n",
       "1            2         1       1   \n",
       "2            3         1       3   \n",
       "3            4         1       1   \n",
       "4            5         0       3   \n",
       "\n",
       "                                                Name     Sex   Age  SibSp  \\\n",
       "0                            Braund, Mr. Owen Harris    male  22.0      1   \n",
       "1  Cumings, Mrs. John Bradley (Florence Briggs Th...  female  38.0      1   \n",
       "2                             Heikkinen, Miss. Laina  female  26.0      0   \n",
       "3       Futrelle, Mrs. Jacques Heath (Lily May Peel)  female  35.0      1   \n",
       "4                           Allen, Mr. William Henry    male  35.0      0   \n",
       "\n",
       "   Parch            Ticket     Fare Cabin Embarked  \n",
       "0      0         A/5 21171   7.2500   NaN        S  \n",
       "1      0          PC 17599  71.2833   C85        C  \n",
       "2      0  STON/O2. 3101282   7.9250   NaN        S  \n",
       "3      0            113803  53.1000  C123        S  \n",
       "4      0            373450   8.0500   NaN        S  "
      ]
     },
     "execution_count": 3,
     "metadata": {},
     "output_type": "execute_result"
    }
   ],
   "source": [
    "train = pd.read_csv('/kaggle/input/titanic/train.csv')\n",
    "print(train.shape)\n",
    "train.head()"
   ]
  },
  {
   "cell_type": "code",
   "execution_count": 4,
   "id": "d9c1686e",
   "metadata": {
    "execution": {
     "iopub.execute_input": "2022-07-01T07:03:04.992045Z",
     "iopub.status.busy": "2022-07-01T07:03:04.991661Z",
     "iopub.status.idle": "2022-07-01T07:03:05.005360Z",
     "shell.execute_reply": "2022-07-01T07:03:05.004305Z"
    },
    "papermill": {
     "duration": 0.026727,
     "end_time": "2022-07-01T07:03:05.007819",
     "exception": false,
     "start_time": "2022-07-01T07:03:04.981092",
     "status": "completed"
    },
    "tags": []
   },
   "outputs": [
    {
     "data": {
      "text/plain": [
       "0    S\n",
       "dtype: object"
      ]
     },
     "execution_count": 4,
     "metadata": {},
     "output_type": "execute_result"
    }
   ],
   "source": [
    "train['Embarked'].mode()"
   ]
  },
  {
   "cell_type": "code",
   "execution_count": 5,
   "id": "0b3d771b",
   "metadata": {
    "execution": {
     "iopub.execute_input": "2022-07-01T07:03:05.028836Z",
     "iopub.status.busy": "2022-07-01T07:03:05.028448Z",
     "iopub.status.idle": "2022-07-01T07:03:05.042283Z",
     "shell.execute_reply": "2022-07-01T07:03:05.041356Z"
    },
    "papermill": {
     "duration": 0.027115,
     "end_time": "2022-07-01T07:03:05.044739",
     "exception": false,
     "start_time": "2022-07-01T07:03:05.017624",
     "status": "completed"
    },
    "tags": []
   },
   "outputs": [],
   "source": [
    "train['Pclass'].fillna(train['Pclass'].mode(), inplace = True)\n",
    "train['Sex'].fillna(train['Sex'].mode(), inplace = True)\n",
    "train['Fare'].fillna(train['Fare'].mean(), inplace = True)\n",
    "train['Embarked'].fillna(train['Embarked'].mode(), inplace = True)"
   ]
  },
  {
   "cell_type": "code",
   "execution_count": 6,
   "id": "fa61b007",
   "metadata": {
    "execution": {
     "iopub.execute_input": "2022-07-01T07:03:05.066617Z",
     "iopub.status.busy": "2022-07-01T07:03:05.065790Z",
     "iopub.status.idle": "2022-07-01T07:03:05.073875Z",
     "shell.execute_reply": "2022-07-01T07:03:05.072840Z"
    },
    "papermill": {
     "duration": 0.021353,
     "end_time": "2022-07-01T07:03:05.076069",
     "exception": false,
     "start_time": "2022-07-01T07:03:05.054716",
     "status": "completed"
    },
    "tags": []
   },
   "outputs": [
    {
     "data": {
      "text/plain": [
       "2"
      ]
     },
     "execution_count": 6,
     "metadata": {},
     "output_type": "execute_result"
    }
   ],
   "source": [
    "np.sum(train['Embarked'].isna())"
   ]
  },
  {
   "cell_type": "markdown",
   "id": "8b552a41",
   "metadata": {
    "papermill": {
     "duration": 0.009457,
     "end_time": "2022-07-01T07:03:05.095437",
     "exception": false,
     "start_time": "2022-07-01T07:03:05.085980",
     "status": "completed"
    },
    "tags": []
   },
   "source": [
    "Encoding categorical variables - Sex and Emarked - into numerical values"
   ]
  },
  {
   "cell_type": "code",
   "execution_count": 7,
   "id": "2c6b2768",
   "metadata": {
    "execution": {
     "iopub.execute_input": "2022-07-01T07:03:05.117843Z",
     "iopub.status.busy": "2022-07-01T07:03:05.117403Z",
     "iopub.status.idle": "2022-07-01T07:03:06.202338Z",
     "shell.execute_reply": "2022-07-01T07:03:06.201177Z"
    },
    "papermill": {
     "duration": 1.099245,
     "end_time": "2022-07-01T07:03:06.205364",
     "exception": false,
     "start_time": "2022-07-01T07:03:05.106119",
     "status": "completed"
    },
    "tags": []
   },
   "outputs": [],
   "source": [
    "from sklearn.preprocessing import OrdinalEncoder\n",
    "enc = OrdinalEncoder()"
   ]
  },
  {
   "cell_type": "code",
   "execution_count": 8,
   "id": "cfc09271",
   "metadata": {
    "execution": {
     "iopub.execute_input": "2022-07-01T07:03:06.227049Z",
     "iopub.status.busy": "2022-07-01T07:03:06.226647Z",
     "iopub.status.idle": "2022-07-01T07:03:06.240180Z",
     "shell.execute_reply": "2022-07-01T07:03:06.238966Z"
    },
    "papermill": {
     "duration": 0.027539,
     "end_time": "2022-07-01T07:03:06.242705",
     "exception": false,
     "start_time": "2022-07-01T07:03:06.215166",
     "status": "completed"
    },
    "tags": []
   },
   "outputs": [
    {
     "name": "stdout",
     "output_type": "stream",
     "text": [
      "[array(['female', 'male'], dtype=object)]\n",
      "[array(['C', 'Q', 'S', nan], dtype=object)]\n"
     ]
    }
   ],
   "source": [
    "train['Sex'] = enc.fit_transform(train.loc[:, train.columns == 'Sex'])\n",
    "print(enc.categories_)\n",
    "train['Embarked'] = enc.fit_transform(train.loc[:, train.columns == 'Embarked'])\n",
    "print(enc.categories_)"
   ]
  },
  {
   "cell_type": "code",
   "execution_count": 9,
   "id": "a2f34f36",
   "metadata": {
    "execution": {
     "iopub.execute_input": "2022-07-01T07:03:06.265720Z",
     "iopub.status.busy": "2022-07-01T07:03:06.264703Z",
     "iopub.status.idle": "2022-07-01T07:03:06.318899Z",
     "shell.execute_reply": "2022-07-01T07:03:06.317764Z"
    },
    "papermill": {
     "duration": 0.068484,
     "end_time": "2022-07-01T07:03:06.321676",
     "exception": false,
     "start_time": "2022-07-01T07:03:06.253192",
     "status": "completed"
    },
    "tags": []
   },
   "outputs": [
    {
     "data": {
      "text/html": [
       "<div>\n",
       "<style scoped>\n",
       "    .dataframe tbody tr th:only-of-type {\n",
       "        vertical-align: middle;\n",
       "    }\n",
       "\n",
       "    .dataframe tbody tr th {\n",
       "        vertical-align: top;\n",
       "    }\n",
       "\n",
       "    .dataframe thead th {\n",
       "        text-align: right;\n",
       "    }\n",
       "</style>\n",
       "<table border=\"1\" class=\"dataframe\">\n",
       "  <thead>\n",
       "    <tr style=\"text-align: right;\">\n",
       "      <th></th>\n",
       "      <th>PassengerId</th>\n",
       "      <th>Survived</th>\n",
       "      <th>Pclass</th>\n",
       "      <th>Name</th>\n",
       "      <th>Sex</th>\n",
       "      <th>Age</th>\n",
       "      <th>SibSp</th>\n",
       "      <th>Parch</th>\n",
       "      <th>Ticket</th>\n",
       "      <th>Fare</th>\n",
       "      <th>Cabin</th>\n",
       "      <th>Embarked</th>\n",
       "    </tr>\n",
       "  </thead>\n",
       "  <tbody>\n",
       "    <tr>\n",
       "      <th>count</th>\n",
       "      <td>891.000000</td>\n",
       "      <td>891.000000</td>\n",
       "      <td>891.000000</td>\n",
       "      <td>891</td>\n",
       "      <td>891.000000</td>\n",
       "      <td>714.000000</td>\n",
       "      <td>891.000000</td>\n",
       "      <td>891.000000</td>\n",
       "      <td>891</td>\n",
       "      <td>891.000000</td>\n",
       "      <td>204</td>\n",
       "      <td>889.000000</td>\n",
       "    </tr>\n",
       "    <tr>\n",
       "      <th>unique</th>\n",
       "      <td>NaN</td>\n",
       "      <td>NaN</td>\n",
       "      <td>NaN</td>\n",
       "      <td>891</td>\n",
       "      <td>NaN</td>\n",
       "      <td>NaN</td>\n",
       "      <td>NaN</td>\n",
       "      <td>NaN</td>\n",
       "      <td>681</td>\n",
       "      <td>NaN</td>\n",
       "      <td>147</td>\n",
       "      <td>NaN</td>\n",
       "    </tr>\n",
       "    <tr>\n",
       "      <th>top</th>\n",
       "      <td>NaN</td>\n",
       "      <td>NaN</td>\n",
       "      <td>NaN</td>\n",
       "      <td>Braund, Mr. Owen Harris</td>\n",
       "      <td>NaN</td>\n",
       "      <td>NaN</td>\n",
       "      <td>NaN</td>\n",
       "      <td>NaN</td>\n",
       "      <td>347082</td>\n",
       "      <td>NaN</td>\n",
       "      <td>B96 B98</td>\n",
       "      <td>NaN</td>\n",
       "    </tr>\n",
       "    <tr>\n",
       "      <th>freq</th>\n",
       "      <td>NaN</td>\n",
       "      <td>NaN</td>\n",
       "      <td>NaN</td>\n",
       "      <td>1</td>\n",
       "      <td>NaN</td>\n",
       "      <td>NaN</td>\n",
       "      <td>NaN</td>\n",
       "      <td>NaN</td>\n",
       "      <td>7</td>\n",
       "      <td>NaN</td>\n",
       "      <td>4</td>\n",
       "      <td>NaN</td>\n",
       "    </tr>\n",
       "    <tr>\n",
       "      <th>mean</th>\n",
       "      <td>446.000000</td>\n",
       "      <td>0.383838</td>\n",
       "      <td>2.308642</td>\n",
       "      <td>NaN</td>\n",
       "      <td>0.647587</td>\n",
       "      <td>29.699118</td>\n",
       "      <td>0.523008</td>\n",
       "      <td>0.381594</td>\n",
       "      <td>NaN</td>\n",
       "      <td>32.204208</td>\n",
       "      <td>NaN</td>\n",
       "      <td>1.535433</td>\n",
       "    </tr>\n",
       "    <tr>\n",
       "      <th>std</th>\n",
       "      <td>257.353842</td>\n",
       "      <td>0.486592</td>\n",
       "      <td>0.836071</td>\n",
       "      <td>NaN</td>\n",
       "      <td>0.477990</td>\n",
       "      <td>14.526497</td>\n",
       "      <td>1.102743</td>\n",
       "      <td>0.806057</td>\n",
       "      <td>NaN</td>\n",
       "      <td>49.693429</td>\n",
       "      <td>NaN</td>\n",
       "      <td>0.792088</td>\n",
       "    </tr>\n",
       "    <tr>\n",
       "      <th>min</th>\n",
       "      <td>1.000000</td>\n",
       "      <td>0.000000</td>\n",
       "      <td>1.000000</td>\n",
       "      <td>NaN</td>\n",
       "      <td>0.000000</td>\n",
       "      <td>0.420000</td>\n",
       "      <td>0.000000</td>\n",
       "      <td>0.000000</td>\n",
       "      <td>NaN</td>\n",
       "      <td>0.000000</td>\n",
       "      <td>NaN</td>\n",
       "      <td>0.000000</td>\n",
       "    </tr>\n",
       "    <tr>\n",
       "      <th>25%</th>\n",
       "      <td>223.500000</td>\n",
       "      <td>0.000000</td>\n",
       "      <td>2.000000</td>\n",
       "      <td>NaN</td>\n",
       "      <td>0.000000</td>\n",
       "      <td>20.125000</td>\n",
       "      <td>0.000000</td>\n",
       "      <td>0.000000</td>\n",
       "      <td>NaN</td>\n",
       "      <td>7.910400</td>\n",
       "      <td>NaN</td>\n",
       "      <td>1.000000</td>\n",
       "    </tr>\n",
       "    <tr>\n",
       "      <th>50%</th>\n",
       "      <td>446.000000</td>\n",
       "      <td>0.000000</td>\n",
       "      <td>3.000000</td>\n",
       "      <td>NaN</td>\n",
       "      <td>1.000000</td>\n",
       "      <td>28.000000</td>\n",
       "      <td>0.000000</td>\n",
       "      <td>0.000000</td>\n",
       "      <td>NaN</td>\n",
       "      <td>14.454200</td>\n",
       "      <td>NaN</td>\n",
       "      <td>2.000000</td>\n",
       "    </tr>\n",
       "    <tr>\n",
       "      <th>75%</th>\n",
       "      <td>668.500000</td>\n",
       "      <td>1.000000</td>\n",
       "      <td>3.000000</td>\n",
       "      <td>NaN</td>\n",
       "      <td>1.000000</td>\n",
       "      <td>38.000000</td>\n",
       "      <td>1.000000</td>\n",
       "      <td>0.000000</td>\n",
       "      <td>NaN</td>\n",
       "      <td>31.000000</td>\n",
       "      <td>NaN</td>\n",
       "      <td>2.000000</td>\n",
       "    </tr>\n",
       "    <tr>\n",
       "      <th>max</th>\n",
       "      <td>891.000000</td>\n",
       "      <td>1.000000</td>\n",
       "      <td>3.000000</td>\n",
       "      <td>NaN</td>\n",
       "      <td>1.000000</td>\n",
       "      <td>80.000000</td>\n",
       "      <td>8.000000</td>\n",
       "      <td>6.000000</td>\n",
       "      <td>NaN</td>\n",
       "      <td>512.329200</td>\n",
       "      <td>NaN</td>\n",
       "      <td>2.000000</td>\n",
       "    </tr>\n",
       "  </tbody>\n",
       "</table>\n",
       "</div>"
      ],
      "text/plain": [
       "        PassengerId    Survived      Pclass                     Name  \\\n",
       "count    891.000000  891.000000  891.000000                      891   \n",
       "unique          NaN         NaN         NaN                      891   \n",
       "top             NaN         NaN         NaN  Braund, Mr. Owen Harris   \n",
       "freq            NaN         NaN         NaN                        1   \n",
       "mean     446.000000    0.383838    2.308642                      NaN   \n",
       "std      257.353842    0.486592    0.836071                      NaN   \n",
       "min        1.000000    0.000000    1.000000                      NaN   \n",
       "25%      223.500000    0.000000    2.000000                      NaN   \n",
       "50%      446.000000    0.000000    3.000000                      NaN   \n",
       "75%      668.500000    1.000000    3.000000                      NaN   \n",
       "max      891.000000    1.000000    3.000000                      NaN   \n",
       "\n",
       "               Sex         Age       SibSp       Parch  Ticket        Fare  \\\n",
       "count   891.000000  714.000000  891.000000  891.000000     891  891.000000   \n",
       "unique         NaN         NaN         NaN         NaN     681         NaN   \n",
       "top            NaN         NaN         NaN         NaN  347082         NaN   \n",
       "freq           NaN         NaN         NaN         NaN       7         NaN   \n",
       "mean      0.647587   29.699118    0.523008    0.381594     NaN   32.204208   \n",
       "std       0.477990   14.526497    1.102743    0.806057     NaN   49.693429   \n",
       "min       0.000000    0.420000    0.000000    0.000000     NaN    0.000000   \n",
       "25%       0.000000   20.125000    0.000000    0.000000     NaN    7.910400   \n",
       "50%       1.000000   28.000000    0.000000    0.000000     NaN   14.454200   \n",
       "75%       1.000000   38.000000    1.000000    0.000000     NaN   31.000000   \n",
       "max       1.000000   80.000000    8.000000    6.000000     NaN  512.329200   \n",
       "\n",
       "          Cabin    Embarked  \n",
       "count       204  889.000000  \n",
       "unique      147         NaN  \n",
       "top     B96 B98         NaN  \n",
       "freq          4         NaN  \n",
       "mean        NaN    1.535433  \n",
       "std         NaN    0.792088  \n",
       "min         NaN    0.000000  \n",
       "25%         NaN    1.000000  \n",
       "50%         NaN    2.000000  \n",
       "75%         NaN    2.000000  \n",
       "max         NaN    2.000000  "
      ]
     },
     "execution_count": 9,
     "metadata": {},
     "output_type": "execute_result"
    }
   ],
   "source": [
    "train.describe(include = 'all')"
   ]
  },
  {
   "cell_type": "code",
   "execution_count": 10,
   "id": "392b4010",
   "metadata": {
    "execution": {
     "iopub.execute_input": "2022-07-01T07:03:06.344525Z",
     "iopub.status.busy": "2022-07-01T07:03:06.343745Z",
     "iopub.status.idle": "2022-07-01T07:03:06.358176Z",
     "shell.execute_reply": "2022-07-01T07:03:06.356704Z"
    },
    "papermill": {
     "duration": 0.028816,
     "end_time": "2022-07-01T07:03:06.360967",
     "exception": false,
     "start_time": "2022-07-01T07:03:06.332151",
     "status": "completed"
    },
    "tags": []
   },
   "outputs": [
    {
     "name": "stdout",
     "output_type": "stream",
     "text": [
      "Pclass frequent: 0    3\n",
      "dtype: int64\n",
      "Sex frequent: 0    1.0\n",
      "dtype: float64\n"
     ]
    }
   ],
   "source": [
    "print('Pclass frequent:', train['Pclass'].mode())\n",
    "print('Sex frequent:', train['Sex'].mode())"
   ]
  },
  {
   "cell_type": "code",
   "execution_count": 11,
   "id": "501158b6",
   "metadata": {
    "execution": {
     "iopub.execute_input": "2022-07-01T07:03:06.383488Z",
     "iopub.status.busy": "2022-07-01T07:03:06.383091Z",
     "iopub.status.idle": "2022-07-01T07:03:06.401702Z",
     "shell.execute_reply": "2022-07-01T07:03:06.399952Z"
    },
    "papermill": {
     "duration": 0.033515,
     "end_time": "2022-07-01T07:03:06.404753",
     "exception": false,
     "start_time": "2022-07-01T07:03:06.371238",
     "status": "completed"
    },
    "tags": []
   },
   "outputs": [
    {
     "name": "stdout",
     "output_type": "stream",
     "text": [
      "<class 'pandas.core.frame.DataFrame'>\n",
      "RangeIndex: 891 entries, 0 to 890\n",
      "Data columns (total 12 columns):\n",
      " #   Column       Non-Null Count  Dtype  \n",
      "---  ------       --------------  -----  \n",
      " 0   PassengerId  891 non-null    int64  \n",
      " 1   Survived     891 non-null    int64  \n",
      " 2   Pclass       891 non-null    int64  \n",
      " 3   Name         891 non-null    object \n",
      " 4   Sex          891 non-null    float64\n",
      " 5   Age          714 non-null    float64\n",
      " 6   SibSp        891 non-null    int64  \n",
      " 7   Parch        891 non-null    int64  \n",
      " 8   Ticket       891 non-null    object \n",
      " 9   Fare         891 non-null    float64\n",
      " 10  Cabin        204 non-null    object \n",
      " 11  Embarked     889 non-null    float64\n",
      "dtypes: float64(4), int64(5), object(3)\n",
      "memory usage: 83.7+ KB\n"
     ]
    }
   ],
   "source": [
    "train.info()"
   ]
  },
  {
   "cell_type": "code",
   "execution_count": 12,
   "id": "3b3356b2",
   "metadata": {
    "execution": {
     "iopub.execute_input": "2022-07-01T07:03:06.429777Z",
     "iopub.status.busy": "2022-07-01T07:03:06.429377Z",
     "iopub.status.idle": "2022-07-01T07:03:06.515723Z",
     "shell.execute_reply": "2022-07-01T07:03:06.514491Z"
    },
    "papermill": {
     "duration": 0.101828,
     "end_time": "2022-07-01T07:03:06.518493",
     "exception": false,
     "start_time": "2022-07-01T07:03:06.416665",
     "status": "completed"
    },
    "tags": []
   },
   "outputs": [],
   "source": [
    "from sklearn.model_selection import StratifiedShuffleSplit\n",
    "split = StratifiedShuffleSplit(test_size = 0.1, random_state = 3)\n",
    "for train_index, test_index in split.split(train, train['Pclass']):\n",
    "    strat_train_set = train.loc[train_index]\n",
    "    strat_test_set = train.loc[test_index]"
   ]
  },
  {
   "cell_type": "code",
   "execution_count": 13,
   "id": "fc72607a",
   "metadata": {
    "execution": {
     "iopub.execute_input": "2022-07-01T07:03:06.541905Z",
     "iopub.status.busy": "2022-07-01T07:03:06.541459Z",
     "iopub.status.idle": "2022-07-01T07:03:06.547951Z",
     "shell.execute_reply": "2022-07-01T07:03:06.546769Z"
    },
    "papermill": {
     "duration": 0.021306,
     "end_time": "2022-07-01T07:03:06.550347",
     "exception": false,
     "start_time": "2022-07-01T07:03:06.529041",
     "status": "completed"
    },
    "tags": []
   },
   "outputs": [],
   "source": [
    "import matplotlib.pyplot as plt\n",
    "def hist_plot(data, feature, bins):\n",
    "    data[feature].hist(bins = bins, figsize =(20,15))\n",
    "    plt.show()"
   ]
  },
  {
   "cell_type": "code",
   "execution_count": 14,
   "id": "f1c94c9d",
   "metadata": {
    "execution": {
     "iopub.execute_input": "2022-07-01T07:03:06.573109Z",
     "iopub.status.busy": "2022-07-01T07:03:06.572743Z",
     "iopub.status.idle": "2022-07-01T07:03:06.593535Z",
     "shell.execute_reply": "2022-07-01T07:03:06.592091Z"
    },
    "papermill": {
     "duration": 0.03627,
     "end_time": "2022-07-01T07:03:06.597012",
     "exception": false,
     "start_time": "2022-07-01T07:03:06.560742",
     "status": "completed"
    },
    "tags": []
   },
   "outputs": [
    {
     "name": "stdout",
     "output_type": "stream",
     "text": [
      "(801, 11)\n"
     ]
    },
    {
     "data": {
      "text/html": [
       "<div>\n",
       "<style scoped>\n",
       "    .dataframe tbody tr th:only-of-type {\n",
       "        vertical-align: middle;\n",
       "    }\n",
       "\n",
       "    .dataframe tbody tr th {\n",
       "        vertical-align: top;\n",
       "    }\n",
       "\n",
       "    .dataframe thead th {\n",
       "        text-align: right;\n",
       "    }\n",
       "</style>\n",
       "<table border=\"1\" class=\"dataframe\">\n",
       "  <thead>\n",
       "    <tr style=\"text-align: right;\">\n",
       "      <th></th>\n",
       "      <th>PassengerId</th>\n",
       "      <th>Pclass</th>\n",
       "      <th>Name</th>\n",
       "      <th>Sex</th>\n",
       "      <th>Age</th>\n",
       "      <th>SibSp</th>\n",
       "      <th>Parch</th>\n",
       "      <th>Ticket</th>\n",
       "      <th>Fare</th>\n",
       "      <th>Cabin</th>\n",
       "      <th>Embarked</th>\n",
       "    </tr>\n",
       "  </thead>\n",
       "  <tbody>\n",
       "    <tr>\n",
       "      <th>188</th>\n",
       "      <td>189</td>\n",
       "      <td>3</td>\n",
       "      <td>Bourke, Mr. John</td>\n",
       "      <td>1.0</td>\n",
       "      <td>40.0</td>\n",
       "      <td>1</td>\n",
       "      <td>1</td>\n",
       "      <td>364849</td>\n",
       "      <td>15.50</td>\n",
       "      <td>NaN</td>\n",
       "      <td>1.0</td>\n",
       "    </tr>\n",
       "    <tr>\n",
       "      <th>170</th>\n",
       "      <td>171</td>\n",
       "      <td>1</td>\n",
       "      <td>Van der hoef, Mr. Wyckoff</td>\n",
       "      <td>1.0</td>\n",
       "      <td>61.0</td>\n",
       "      <td>0</td>\n",
       "      <td>0</td>\n",
       "      <td>111240</td>\n",
       "      <td>33.50</td>\n",
       "      <td>B19</td>\n",
       "      <td>2.0</td>\n",
       "    </tr>\n",
       "    <tr>\n",
       "      <th>148</th>\n",
       "      <td>149</td>\n",
       "      <td>2</td>\n",
       "      <td>Navratil, Mr. Michel (\"Louis M Hoffman\")</td>\n",
       "      <td>1.0</td>\n",
       "      <td>36.5</td>\n",
       "      <td>0</td>\n",
       "      <td>2</td>\n",
       "      <td>230080</td>\n",
       "      <td>26.00</td>\n",
       "      <td>F2</td>\n",
       "      <td>2.0</td>\n",
       "    </tr>\n",
       "    <tr>\n",
       "      <th>845</th>\n",
       "      <td>846</td>\n",
       "      <td>3</td>\n",
       "      <td>Abbing, Mr. Anthony</td>\n",
       "      <td>1.0</td>\n",
       "      <td>42.0</td>\n",
       "      <td>0</td>\n",
       "      <td>0</td>\n",
       "      <td>C.A. 5547</td>\n",
       "      <td>7.55</td>\n",
       "      <td>NaN</td>\n",
       "      <td>2.0</td>\n",
       "    </tr>\n",
       "    <tr>\n",
       "      <th>290</th>\n",
       "      <td>291</td>\n",
       "      <td>1</td>\n",
       "      <td>Barber, Miss. Ellen \"Nellie\"</td>\n",
       "      <td>0.0</td>\n",
       "      <td>26.0</td>\n",
       "      <td>0</td>\n",
       "      <td>0</td>\n",
       "      <td>19877</td>\n",
       "      <td>78.85</td>\n",
       "      <td>NaN</td>\n",
       "      <td>2.0</td>\n",
       "    </tr>\n",
       "  </tbody>\n",
       "</table>\n",
       "</div>"
      ],
      "text/plain": [
       "     PassengerId  Pclass                                      Name  Sex   Age  \\\n",
       "188          189       3                          Bourke, Mr. John  1.0  40.0   \n",
       "170          171       1                 Van der hoef, Mr. Wyckoff  1.0  61.0   \n",
       "148          149       2  Navratil, Mr. Michel (\"Louis M Hoffman\")  1.0  36.5   \n",
       "845          846       3                       Abbing, Mr. Anthony  1.0  42.0   \n",
       "290          291       1              Barber, Miss. Ellen \"Nellie\"  0.0  26.0   \n",
       "\n",
       "     SibSp  Parch     Ticket   Fare Cabin  Embarked  \n",
       "188      1      1     364849  15.50   NaN       1.0  \n",
       "170      0      0     111240  33.50   B19       2.0  \n",
       "148      0      2     230080  26.00    F2       2.0  \n",
       "845      0      0  C.A. 5547   7.55   NaN       2.0  \n",
       "290      0      0      19877  78.85   NaN       2.0  "
      ]
     },
     "execution_count": 14,
     "metadata": {},
     "output_type": "execute_result"
    }
   ],
   "source": [
    "trainx = strat_train_set.loc[:, strat_train_set.columns != 'Survived']\n",
    "testx = strat_test_set.loc[:, strat_test_set.columns != 'Survived']\n",
    "print(trainx.shape)\n",
    "trainx.head()"
   ]
  },
  {
   "cell_type": "code",
   "execution_count": 15,
   "id": "913d28da",
   "metadata": {
    "execution": {
     "iopub.execute_input": "2022-07-01T07:03:06.620958Z",
     "iopub.status.busy": "2022-07-01T07:03:06.620577Z",
     "iopub.status.idle": "2022-07-01T07:03:06.633433Z",
     "shell.execute_reply": "2022-07-01T07:03:06.631832Z"
    },
    "papermill": {
     "duration": 0.026942,
     "end_time": "2022-07-01T07:03:06.635628",
     "exception": false,
     "start_time": "2022-07-01T07:03:06.608686",
     "status": "completed"
    },
    "tags": []
   },
   "outputs": [
    {
     "name": "stdout",
     "output_type": "stream",
     "text": [
      "(801, 1)\n"
     ]
    },
    {
     "data": {
      "text/html": [
       "<div>\n",
       "<style scoped>\n",
       "    .dataframe tbody tr th:only-of-type {\n",
       "        vertical-align: middle;\n",
       "    }\n",
       "\n",
       "    .dataframe tbody tr th {\n",
       "        vertical-align: top;\n",
       "    }\n",
       "\n",
       "    .dataframe thead th {\n",
       "        text-align: right;\n",
       "    }\n",
       "</style>\n",
       "<table border=\"1\" class=\"dataframe\">\n",
       "  <thead>\n",
       "    <tr style=\"text-align: right;\">\n",
       "      <th></th>\n",
       "      <th>Survived</th>\n",
       "    </tr>\n",
       "  </thead>\n",
       "  <tbody>\n",
       "    <tr>\n",
       "      <th>188</th>\n",
       "      <td>0</td>\n",
       "    </tr>\n",
       "    <tr>\n",
       "      <th>170</th>\n",
       "      <td>0</td>\n",
       "    </tr>\n",
       "    <tr>\n",
       "      <th>148</th>\n",
       "      <td>0</td>\n",
       "    </tr>\n",
       "    <tr>\n",
       "      <th>845</th>\n",
       "      <td>0</td>\n",
       "    </tr>\n",
       "    <tr>\n",
       "      <th>290</th>\n",
       "      <td>1</td>\n",
       "    </tr>\n",
       "  </tbody>\n",
       "</table>\n",
       "</div>"
      ],
      "text/plain": [
       "     Survived\n",
       "188         0\n",
       "170         0\n",
       "148         0\n",
       "845         0\n",
       "290         1"
      ]
     },
     "execution_count": 15,
     "metadata": {},
     "output_type": "execute_result"
    }
   ],
   "source": [
    "trainy = strat_train_set.loc[:,'Survived'].to_frame()\n",
    "testy = strat_test_set.loc[:, 'Survived'].to_frame()\n",
    "print(trainy.shape)\n",
    "trainy.head()"
   ]
  },
  {
   "cell_type": "code",
   "execution_count": 16,
   "id": "e460d8f6",
   "metadata": {
    "execution": {
     "iopub.execute_input": "2022-07-01T07:03:06.661095Z",
     "iopub.status.busy": "2022-07-01T07:03:06.660707Z",
     "iopub.status.idle": "2022-07-01T07:03:06.669851Z",
     "shell.execute_reply": "2022-07-01T07:03:06.668677Z"
    },
    "papermill": {
     "duration": 0.024775,
     "end_time": "2022-07-01T07:03:06.672164",
     "exception": false,
     "start_time": "2022-07-01T07:03:06.647389",
     "status": "completed"
    },
    "tags": []
   },
   "outputs": [
    {
     "data": {
      "text/plain": [
       "1.0    514\n",
       "0.0    287\n",
       "Name: Sex, dtype: int64"
      ]
     },
     "execution_count": 16,
     "metadata": {},
     "output_type": "execute_result"
    }
   ],
   "source": [
    "trainx['Sex'].value_counts()"
   ]
  },
  {
   "cell_type": "markdown",
   "id": "b855d6d8",
   "metadata": {
    "papermill": {
     "duration": 0.011327,
     "end_time": "2022-07-01T07:03:06.695170",
     "exception": false,
     "start_time": "2022-07-01T07:03:06.683843",
     "status": "completed"
    },
    "tags": []
   },
   "source": [
    "Finding correlation b/w features and target variable('Survived')"
   ]
  },
  {
   "cell_type": "code",
   "execution_count": 17,
   "id": "97719a3c",
   "metadata": {
    "execution": {
     "iopub.execute_input": "2022-07-01T07:03:06.720709Z",
     "iopub.status.busy": "2022-07-01T07:03:06.720255Z",
     "iopub.status.idle": "2022-07-01T07:03:06.731445Z",
     "shell.execute_reply": "2022-07-01T07:03:06.730245Z"
    },
    "papermill": {
     "duration": 0.026968,
     "end_time": "2022-07-01T07:03:06.734183",
     "exception": false,
     "start_time": "2022-07-01T07:03:06.707215",
     "status": "completed"
    },
    "tags": []
   },
   "outputs": [
    {
     "data": {
      "text/plain": [
       "PassengerId   -0.005007\n",
       "Survived       1.000000\n",
       "Pclass        -0.338481\n",
       "Sex           -0.543351\n",
       "Age           -0.077221\n",
       "SibSp         -0.035322\n",
       "Parch          0.081629\n",
       "Fare           0.257307\n",
       "Embarked      -0.169718\n",
       "Name: Survived, dtype: float64"
      ]
     },
     "execution_count": 17,
     "metadata": {},
     "output_type": "execute_result"
    }
   ],
   "source": [
    "train.corr()['Survived']"
   ]
  },
  {
   "cell_type": "markdown",
   "id": "d3fe04c4",
   "metadata": {
    "papermill": {
     "duration": 0.011433,
     "end_time": "2022-07-01T07:03:06.757633",
     "exception": false,
     "start_time": "2022-07-01T07:03:06.746200",
     "status": "completed"
    },
    "tags": []
   },
   "source": [
    "Valuable correlation of features with survival: Pclass, Embarked and Sex - negatively correlated; Fare - positively correlated; but not to significant extent "
   ]
  },
  {
   "cell_type": "code",
   "execution_count": 18,
   "id": "79612f25",
   "metadata": {
    "execution": {
     "iopub.execute_input": "2022-07-01T07:03:06.781989Z",
     "iopub.status.busy": "2022-07-01T07:03:06.781567Z",
     "iopub.status.idle": "2022-07-01T07:03:06.886897Z",
     "shell.execute_reply": "2022-07-01T07:03:06.885617Z"
    },
    "papermill": {
     "duration": 0.12086,
     "end_time": "2022-07-01T07:03:06.889782",
     "exception": false,
     "start_time": "2022-07-01T07:03:06.768922",
     "status": "completed"
    },
    "tags": []
   },
   "outputs": [],
   "source": [
    "from sklearn.linear_model import LogisticRegression\n",
    "clf = LogisticRegression(random_state = 3).fit(trainx[['Pclass', 'Sex', 'Fare']], trainy.values.ravel())"
   ]
  },
  {
   "cell_type": "code",
   "execution_count": 19,
   "id": "b88ce1e7",
   "metadata": {
    "execution": {
     "iopub.execute_input": "2022-07-01T07:03:06.914699Z",
     "iopub.status.busy": "2022-07-01T07:03:06.914265Z",
     "iopub.status.idle": "2022-07-01T07:03:06.922934Z",
     "shell.execute_reply": "2022-07-01T07:03:06.921903Z"
    },
    "papermill": {
     "duration": 0.023507,
     "end_time": "2022-07-01T07:03:06.925088",
     "exception": false,
     "start_time": "2022-07-01T07:03:06.901581",
     "status": "completed"
    },
    "tags": []
   },
   "outputs": [],
   "source": [
    "prediction = clf.predict(testx[['Pclass', 'Sex', 'Fare']])"
   ]
  },
  {
   "cell_type": "code",
   "execution_count": 20,
   "id": "93fd4c35",
   "metadata": {
    "execution": {
     "iopub.execute_input": "2022-07-01T07:03:06.950001Z",
     "iopub.status.busy": "2022-07-01T07:03:06.949623Z",
     "iopub.status.idle": "2022-07-01T07:03:06.956629Z",
     "shell.execute_reply": "2022-07-01T07:03:06.955475Z"
    },
    "papermill": {
     "duration": 0.022657,
     "end_time": "2022-07-01T07:03:06.959247",
     "exception": false,
     "start_time": "2022-07-01T07:03:06.936590",
     "status": "completed"
    },
    "tags": []
   },
   "outputs": [
    {
     "data": {
      "text/plain": [
       "(90,)"
      ]
     },
     "execution_count": 20,
     "metadata": {},
     "output_type": "execute_result"
    }
   ],
   "source": [
    "prediction.shape"
   ]
  },
  {
   "cell_type": "code",
   "execution_count": 21,
   "id": "81d6d0a9",
   "metadata": {
    "execution": {
     "iopub.execute_input": "2022-07-01T07:03:06.986631Z",
     "iopub.status.busy": "2022-07-01T07:03:06.986196Z",
     "iopub.status.idle": "2022-07-01T07:03:06.995167Z",
     "shell.execute_reply": "2022-07-01T07:03:06.994124Z"
    },
    "papermill": {
     "duration": 0.025335,
     "end_time": "2022-07-01T07:03:06.997410",
     "exception": false,
     "start_time": "2022-07-01T07:03:06.972075",
     "status": "completed"
    },
    "tags": []
   },
   "outputs": [
    {
     "data": {
      "text/plain": [
       "0.7666666666666667"
      ]
     },
     "execution_count": 21,
     "metadata": {},
     "output_type": "execute_result"
    }
   ],
   "source": [
    "from sklearn.metrics import accuracy_score\n",
    "accuracy = accuracy_score(testy, prediction, normalize = True)\n",
    "accuracy"
   ]
  },
  {
   "cell_type": "markdown",
   "id": "22dcd8eb",
   "metadata": {
    "papermill": {
     "duration": 0.011909,
     "end_time": "2022-07-01T07:03:07.021819",
     "exception": false,
     "start_time": "2022-07-01T07:03:07.009910",
     "status": "completed"
    },
    "tags": []
   },
   "source": [
    "Accuracy of a simple logistic regression employing three features Pclass, Sex and Fare"
   ]
  },
  {
   "cell_type": "code",
   "execution_count": 22,
   "id": "9365a6b5",
   "metadata": {
    "execution": {
     "iopub.execute_input": "2022-07-01T07:03:07.047016Z",
     "iopub.status.busy": "2022-07-01T07:03:07.046589Z",
     "iopub.status.idle": "2022-07-01T07:03:07.073855Z",
     "shell.execute_reply": "2022-07-01T07:03:07.071901Z"
    },
    "papermill": {
     "duration": 0.043285,
     "end_time": "2022-07-01T07:03:07.076838",
     "exception": false,
     "start_time": "2022-07-01T07:03:07.033553",
     "status": "completed"
    },
    "tags": []
   },
   "outputs": [
    {
     "name": "stdout",
     "output_type": "stream",
     "text": [
      "(418, 11)\n"
     ]
    },
    {
     "data": {
      "text/html": [
       "<div>\n",
       "<style scoped>\n",
       "    .dataframe tbody tr th:only-of-type {\n",
       "        vertical-align: middle;\n",
       "    }\n",
       "\n",
       "    .dataframe tbody tr th {\n",
       "        vertical-align: top;\n",
       "    }\n",
       "\n",
       "    .dataframe thead th {\n",
       "        text-align: right;\n",
       "    }\n",
       "</style>\n",
       "<table border=\"1\" class=\"dataframe\">\n",
       "  <thead>\n",
       "    <tr style=\"text-align: right;\">\n",
       "      <th></th>\n",
       "      <th>PassengerId</th>\n",
       "      <th>Pclass</th>\n",
       "      <th>Name</th>\n",
       "      <th>Sex</th>\n",
       "      <th>Age</th>\n",
       "      <th>SibSp</th>\n",
       "      <th>Parch</th>\n",
       "      <th>Ticket</th>\n",
       "      <th>Fare</th>\n",
       "      <th>Cabin</th>\n",
       "      <th>Embarked</th>\n",
       "    </tr>\n",
       "  </thead>\n",
       "  <tbody>\n",
       "    <tr>\n",
       "      <th>0</th>\n",
       "      <td>892</td>\n",
       "      <td>3</td>\n",
       "      <td>Kelly, Mr. James</td>\n",
       "      <td>male</td>\n",
       "      <td>34.5</td>\n",
       "      <td>0</td>\n",
       "      <td>0</td>\n",
       "      <td>330911</td>\n",
       "      <td>7.8292</td>\n",
       "      <td>NaN</td>\n",
       "      <td>Q</td>\n",
       "    </tr>\n",
       "    <tr>\n",
       "      <th>1</th>\n",
       "      <td>893</td>\n",
       "      <td>3</td>\n",
       "      <td>Wilkes, Mrs. James (Ellen Needs)</td>\n",
       "      <td>female</td>\n",
       "      <td>47.0</td>\n",
       "      <td>1</td>\n",
       "      <td>0</td>\n",
       "      <td>363272</td>\n",
       "      <td>7.0000</td>\n",
       "      <td>NaN</td>\n",
       "      <td>S</td>\n",
       "    </tr>\n",
       "    <tr>\n",
       "      <th>2</th>\n",
       "      <td>894</td>\n",
       "      <td>2</td>\n",
       "      <td>Myles, Mr. Thomas Francis</td>\n",
       "      <td>male</td>\n",
       "      <td>62.0</td>\n",
       "      <td>0</td>\n",
       "      <td>0</td>\n",
       "      <td>240276</td>\n",
       "      <td>9.6875</td>\n",
       "      <td>NaN</td>\n",
       "      <td>Q</td>\n",
       "    </tr>\n",
       "    <tr>\n",
       "      <th>3</th>\n",
       "      <td>895</td>\n",
       "      <td>3</td>\n",
       "      <td>Wirz, Mr. Albert</td>\n",
       "      <td>male</td>\n",
       "      <td>27.0</td>\n",
       "      <td>0</td>\n",
       "      <td>0</td>\n",
       "      <td>315154</td>\n",
       "      <td>8.6625</td>\n",
       "      <td>NaN</td>\n",
       "      <td>S</td>\n",
       "    </tr>\n",
       "    <tr>\n",
       "      <th>4</th>\n",
       "      <td>896</td>\n",
       "      <td>3</td>\n",
       "      <td>Hirvonen, Mrs. Alexander (Helga E Lindqvist)</td>\n",
       "      <td>female</td>\n",
       "      <td>22.0</td>\n",
       "      <td>1</td>\n",
       "      <td>1</td>\n",
       "      <td>3101298</td>\n",
       "      <td>12.2875</td>\n",
       "      <td>NaN</td>\n",
       "      <td>S</td>\n",
       "    </tr>\n",
       "  </tbody>\n",
       "</table>\n",
       "</div>"
      ],
      "text/plain": [
       "   PassengerId  Pclass                                          Name     Sex  \\\n",
       "0          892       3                              Kelly, Mr. James    male   \n",
       "1          893       3              Wilkes, Mrs. James (Ellen Needs)  female   \n",
       "2          894       2                     Myles, Mr. Thomas Francis    male   \n",
       "3          895       3                              Wirz, Mr. Albert    male   \n",
       "4          896       3  Hirvonen, Mrs. Alexander (Helga E Lindqvist)  female   \n",
       "\n",
       "    Age  SibSp  Parch   Ticket     Fare Cabin Embarked  \n",
       "0  34.5      0      0   330911   7.8292   NaN        Q  \n",
       "1  47.0      1      0   363272   7.0000   NaN        S  \n",
       "2  62.0      0      0   240276   9.6875   NaN        Q  \n",
       "3  27.0      0      0   315154   8.6625   NaN        S  \n",
       "4  22.0      1      1  3101298  12.2875   NaN        S  "
      ]
     },
     "execution_count": 22,
     "metadata": {},
     "output_type": "execute_result"
    }
   ],
   "source": [
    "test = pd.read_csv('/kaggle/input/titanic/test.csv')\n",
    "print(test.shape)\n",
    "test.head()"
   ]
  },
  {
   "cell_type": "code",
   "execution_count": 23,
   "id": "17e3f575",
   "metadata": {
    "execution": {
     "iopub.execute_input": "2022-07-01T07:03:07.103934Z",
     "iopub.status.busy": "2022-07-01T07:03:07.103538Z",
     "iopub.status.idle": "2022-07-01T07:03:07.134107Z",
     "shell.execute_reply": "2022-07-01T07:03:07.133170Z"
    },
    "papermill": {
     "duration": 0.046855,
     "end_time": "2022-07-01T07:03:07.136714",
     "exception": false,
     "start_time": "2022-07-01T07:03:07.089859",
     "status": "completed"
    },
    "tags": []
   },
   "outputs": [],
   "source": [
    "test_stats = test.describe(include = 'all')"
   ]
  },
  {
   "cell_type": "code",
   "execution_count": 24,
   "id": "e8f2e7d7",
   "metadata": {
    "execution": {
     "iopub.execute_input": "2022-07-01T07:03:07.163559Z",
     "iopub.status.busy": "2022-07-01T07:03:07.162632Z",
     "iopub.status.idle": "2022-07-01T07:03:07.171450Z",
     "shell.execute_reply": "2022-07-01T07:03:07.169945Z"
    },
    "papermill": {
     "duration": 0.025809,
     "end_time": "2022-07-01T07:03:07.174417",
     "exception": false,
     "start_time": "2022-07-01T07:03:07.148608",
     "status": "completed"
    },
    "tags": []
   },
   "outputs": [],
   "source": [
    "def prediction(test):\n",
    "    test['Sex'] = enc.fit_transform(test.loc[:, test.columns == 'Sex'])\n",
    "    test['Pclass'].fillna(test['Pclass'].mode(), inplace = True)\n",
    "    test['Sex'].fillna(test['Sex'].mode(), inplace = True)\n",
    "    test['Fare'].fillna(test['Fare'].mean(), inplace = True)\n",
    "    predict = clf.predict(test[['Pclass', 'Sex', 'Fare']])\n",
    "    return predict"
   ]
  },
  {
   "cell_type": "code",
   "execution_count": 25,
   "id": "ec8e8977",
   "metadata": {
    "execution": {
     "iopub.execute_input": "2022-07-01T07:03:07.199936Z",
     "iopub.status.busy": "2022-07-01T07:03:07.199526Z",
     "iopub.status.idle": "2022-07-01T07:03:07.214805Z",
     "shell.execute_reply": "2022-07-01T07:03:07.213536Z"
    },
    "papermill": {
     "duration": 0.031321,
     "end_time": "2022-07-01T07:03:07.217656",
     "exception": false,
     "start_time": "2022-07-01T07:03:07.186335",
     "status": "completed"
    },
    "tags": []
   },
   "outputs": [
    {
     "data": {
      "text/plain": [
       "array([0, 1, 0, 0, 1, 0, 1, 0, 1, 0, 0, 0, 1, 0, 1, 1, 0, 0, 1, 1, 0, 0,\n",
       "       1, 0, 1, 0, 1, 0, 0, 0, 0, 0, 1, 1, 0, 0, 1, 1, 0, 0, 0, 0, 0, 1,\n",
       "       1, 0, 0, 0, 1, 1, 0, 0, 1, 1, 0, 0, 0, 0, 0, 1, 0, 0, 0, 1, 0, 1,\n",
       "       1, 0, 0, 1, 1, 0, 1, 0, 1, 0, 0, 1, 0, 1, 0, 0, 0, 0, 0, 0, 1, 1,\n",
       "       1, 0, 1, 0, 1, 0, 0, 0, 1, 0, 1, 0, 1, 0, 0, 0, 1, 0, 0, 0, 0, 0,\n",
       "       0, 1, 1, 1, 1, 0, 0, 1, 0, 1, 1, 0, 1, 0, 0, 1, 0, 1, 0, 0, 0, 0,\n",
       "       1, 0, 0, 0, 0, 0, 1, 0, 1, 1, 0, 0, 0, 0, 0, 0, 0, 0, 1, 0, 0, 1,\n",
       "       0, 0, 1, 1, 0, 1, 1, 0, 1, 0, 0, 1, 0, 0, 1, 1, 0, 0, 0, 0, 0, 1,\n",
       "       1, 0, 1, 1, 0, 0, 1, 0, 1, 0, 1, 0, 1, 0, 0, 0, 0, 0, 0, 0, 0, 1,\n",
       "       0, 1, 1, 0, 0, 1, 0, 0, 1, 0, 1, 0, 0, 0, 0, 1, 1, 0, 1, 0, 1, 0,\n",
       "       1, 0, 1, 0, 1, 1, 0, 1, 0, 0, 0, 1, 0, 0, 0, 0, 0, 0, 1, 1, 1, 1,\n",
       "       0, 0, 0, 0, 1, 0, 1, 1, 1, 0, 0, 0, 0, 0, 0, 0, 1, 0, 0, 0, 1, 1,\n",
       "       0, 0, 0, 0, 1, 0, 0, 0, 1, 1, 0, 1, 0, 0, 0, 0, 1, 0, 1, 1, 1, 0,\n",
       "       0, 0, 0, 0, 0, 1, 0, 0, 0, 0, 1, 0, 0, 0, 0, 0, 0, 0, 1, 1, 0, 0,\n",
       "       0, 1, 0, 0, 0, 1, 1, 1, 0, 0, 0, 0, 0, 0, 0, 0, 1, 0, 1, 0, 0, 0,\n",
       "       1, 0, 0, 1, 0, 0, 0, 0, 0, 0, 0, 0, 0, 1, 0, 1, 0, 1, 0, 1, 1, 0,\n",
       "       0, 0, 1, 0, 1, 0, 0, 1, 0, 1, 1, 0, 1, 1, 0, 1, 1, 0, 0, 1, 0, 0,\n",
       "       1, 1, 1, 0, 0, 0, 0, 0, 1, 1, 0, 1, 0, 0, 0, 0, 0, 1, 0, 0, 0, 1,\n",
       "       0, 1, 0, 0, 1, 0, 1, 0, 0, 0, 0, 0, 1, 1, 1, 1, 1, 0, 1, 0, 0, 0])"
      ]
     },
     "execution_count": 25,
     "metadata": {},
     "output_type": "execute_result"
    }
   ],
   "source": [
    "test_predictions = prediction(test)\n",
    "test_predictions"
   ]
  },
  {
   "cell_type": "code",
   "execution_count": 26,
   "id": "36b4ad93",
   "metadata": {
    "execution": {
     "iopub.execute_input": "2022-07-01T07:03:07.244323Z",
     "iopub.status.busy": "2022-07-01T07:03:07.243561Z",
     "iopub.status.idle": "2022-07-01T07:03:07.257061Z",
     "shell.execute_reply": "2022-07-01T07:03:07.255996Z"
    },
    "papermill": {
     "duration": 0.029687,
     "end_time": "2022-07-01T07:03:07.259381",
     "exception": false,
     "start_time": "2022-07-01T07:03:07.229694",
     "status": "completed"
    },
    "tags": []
   },
   "outputs": [
    {
     "data": {
      "text/plain": [
       "0"
      ]
     },
     "execution_count": 26,
     "metadata": {},
     "output_type": "execute_result"
    }
   ],
   "source": [
    "test_predictions2 = prediction(test)\n",
    "np.sum(test_predictions != test_predictions2)"
   ]
  },
  {
   "cell_type": "code",
   "execution_count": 27,
   "id": "fd0b2152",
   "metadata": {
    "execution": {
     "iopub.execute_input": "2022-07-01T07:03:07.286277Z",
     "iopub.status.busy": "2022-07-01T07:03:07.285494Z",
     "iopub.status.idle": "2022-07-01T07:03:07.290908Z",
     "shell.execute_reply": "2022-07-01T07:03:07.290046Z"
    },
    "papermill": {
     "duration": 0.02108,
     "end_time": "2022-07-01T07:03:07.293157",
     "exception": false,
     "start_time": "2022-07-01T07:03:07.272077",
     "status": "completed"
    },
    "tags": []
   },
   "outputs": [],
   "source": [
    "submission = pd.DataFrame()"
   ]
  },
  {
   "cell_type": "code",
   "execution_count": 28,
   "id": "2d13043b",
   "metadata": {
    "execution": {
     "iopub.execute_input": "2022-07-01T07:03:07.319595Z",
     "iopub.status.busy": "2022-07-01T07:03:07.318806Z",
     "iopub.status.idle": "2022-07-01T07:03:07.329896Z",
     "shell.execute_reply": "2022-07-01T07:03:07.328900Z"
    },
    "papermill": {
     "duration": 0.027271,
     "end_time": "2022-07-01T07:03:07.332458",
     "exception": false,
     "start_time": "2022-07-01T07:03:07.305187",
     "status": "completed"
    },
    "tags": []
   },
   "outputs": [],
   "source": [
    "\n",
    "submission['PassengerId'] = test['PassengerId']\n",
    "submission['Survived'] = test_predictions\n",
    "submission.to_csv(\"submission.csv\", index = False)"
   ]
  },
  {
   "cell_type": "code",
   "execution_count": null,
   "id": "16406c6d",
   "metadata": {
    "papermill": {
     "duration": 0.012167,
     "end_time": "2022-07-01T07:03:07.356785",
     "exception": false,
     "start_time": "2022-07-01T07:03:07.344618",
     "status": "completed"
    },
    "tags": []
   },
   "outputs": [],
   "source": []
  }
 ],
 "metadata": {
  "kernelspec": {
   "display_name": "Python 3",
   "language": "python",
   "name": "python3"
  },
  "language_info": {
   "codemirror_mode": {
    "name": "ipython",
    "version": 3
   },
   "file_extension": ".py",
   "mimetype": "text/x-python",
   "name": "python",
   "nbconvert_exporter": "python",
   "pygments_lexer": "ipython3",
   "version": "3.7.12"
  },
  "papermill": {
   "default_parameters": {},
   "duration": 13.47889,
   "end_time": "2022-07-01T07:03:08.091584",
   "environment_variables": {},
   "exception": null,
   "input_path": "__notebook__.ipynb",
   "output_path": "__notebook__.ipynb",
   "parameters": {},
   "start_time": "2022-07-01T07:02:54.612694",
   "version": "2.3.4"
  }
 },
 "nbformat": 4,
 "nbformat_minor": 5
}
