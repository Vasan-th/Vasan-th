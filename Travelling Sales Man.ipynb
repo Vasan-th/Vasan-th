{
  "nbformat": 4,
  "nbformat_minor": 0,
  "metadata": {
    "colab": {
      "provenance": [],
      "collapsed_sections": [],
      "authorship_tag": "ABX9TyNMHISrHwxTTrguAz8rDT2y",
      "include_colab_link": true
    },
    "kernelspec": {
      "name": "python3",
      "display_name": "Python 3"
    },
    "language_info": {
      "name": "python"
    }
  },
  "cells": [
    {
      "cell_type": "markdown",
      "metadata": {
        "id": "view-in-github",
        "colab_type": "text"
      },
      "source": [
        "<a href=\"https://colab.research.google.com/github/Vasan-th/Vasan-th/blob/main/Travelling%20Sales%20Man.ipynb\" target=\"_parent\"><img src=\"https://colab.research.google.com/assets/colab-badge.svg\" alt=\"Open In Colab\"/></a>"
      ]
    },
    {
      "cell_type": "code",
      "source": [
        "import numpy as np"
      ],
      "metadata": {
        "id": "eaPxLHfZbuDR"
      },
      "execution_count": null,
      "outputs": []
    },
    {
      "cell_type": "code",
      "execution_count": null,
      "metadata": {
        "colab": {
          "base_uri": "https://localhost:8080/"
        },
        "id": "IzOQlbGeXnlV",
        "outputId": "d24155a7-4976-4850-ff45-3908abd3e1bb"
      },
      "outputs": [
        {
          "name": "stdout",
          "output_type": "stream",
          "text": [
            "CPU times: user 3 µs, sys: 1 µs, total: 4 µs\n",
            "Wall time: 5.72 µs\n",
            "euclidean\n",
            "4\n",
            "1 2\n",
            "2 2\n",
            "2 3\n",
            "3 2\n",
            "0 4 3 2\n",
            "4 0 1 2\n",
            "3 1 0 4\n",
            "2 2 4 0\n"
          ]
        }
      ],
      "source": [
        "# Taking inputs from user\n",
        "%time\n",
        "distance_type = input()\n",
        "no_of_cities = int(input())\n",
        "co_ordinates = [0]*no_of_cities\n",
        "distance = np.zeros((no_of_cities, no_of_cities))\n",
        "for i in range(no_of_cities):\n",
        "  co_ordinates[i] = input()\n",
        "for i in range(no_of_cities):\n",
        "  distance[i] = input().split()\n"
      ]
    },
    {
      "cell_type": "code",
      "source": [
        "%time\n",
        "visited = [0]\n",
        "not_visited = list(range(1,no_of_cities, 1))\n",
        "curr = 0"
      ],
      "metadata": {
        "colab": {
          "base_uri": "https://localhost:8080/"
        },
        "id": "icZ_MEnqZ8pN",
        "outputId": "d5c16c95-e367-4221-b74d-6b0e87ad568f"
      },
      "execution_count": null,
      "outputs": [
        {
          "output_type": "stream",
          "name": "stdout",
          "text": [
            "CPU times: user 3 µs, sys: 0 ns, total: 3 µs\n",
            "Wall time: 8.34 µs\n"
          ]
        }
      ]
    },
    {
      "cell_type": "code",
      "source": [
        "%time\n",
        "from copy import deepcopy\n",
        "cost = 0\n",
        "first_node_distance = deepcopy(distance[:,0])"
      ],
      "metadata": {
        "colab": {
          "base_uri": "https://localhost:8080/"
        },
        "id": "-C_cQkXlwm-U",
        "outputId": "fb58972e-20d1-475b-da07-83a6765c0d02"
      },
      "execution_count": null,
      "outputs": [
        {
          "output_type": "stream",
          "name": "stdout",
          "text": [
            "CPU times: user 4 µs, sys: 0 ns, total: 4 µs\n",
            "Wall time: 7.39 µs\n"
          ]
        }
      ]
    },
    {
      "cell_type": "code",
      "source": [
        "# to prevent self-looping \n",
        "%time\n",
        "for i in range(no_of_cities):\n",
        "  distance[i,i] = float('inf')"
      ],
      "metadata": {
        "id": "4NbkUnP2cqjO",
        "colab": {
          "base_uri": "https://localhost:8080/"
        },
        "outputId": "22118770-b71e-4421-dab4-52d8a8938339"
      },
      "execution_count": null,
      "outputs": [
        {
          "output_type": "stream",
          "name": "stdout",
          "text": [
            "CPU times: user 2 µs, sys: 0 ns, total: 2 µs\n",
            "Wall time: 5.48 µs\n"
          ]
        }
      ]
    },
    {
      "cell_type": "code",
      "source": [
        "#making the distance to the start node as inf from all other nodes for preventing premature loop close\n",
        "%time\n",
        "distance[:,0] = float('inf') "
      ],
      "metadata": {
        "id": "1ggvKAcl8WWo",
        "colab": {
          "base_uri": "https://localhost:8080/"
        },
        "outputId": "56d0fb09-936b-43c3-d139-1b16a83a0e34"
      },
      "execution_count": null,
      "outputs": [
        {
          "output_type": "stream",
          "name": "stdout",
          "text": [
            "CPU times: user 2 µs, sys: 0 ns, total: 2 µs\n",
            "Wall time: 5.01 µs\n"
          ]
        }
      ]
    },
    {
      "cell_type": "code",
      "source": [
        "%time\n",
        "for i in range(1,no_of_cities):\n",
        "  cost += min(distance[curr, :])\n",
        "  visited.append(np.argmin(distance[curr]))\n",
        "  curr = visited[-1]\n",
        "  not_visited.remove(curr)\n",
        "  distance[:,curr] = float('inf')"
      ],
      "metadata": {
        "id": "LXyWHF7EzMUq",
        "colab": {
          "base_uri": "https://localhost:8080/"
        },
        "outputId": "491b8877-9754-4fbc-ffe2-2fc46ca3abb6"
      },
      "execution_count": null,
      "outputs": [
        {
          "output_type": "stream",
          "name": "stdout",
          "text": [
            "CPU times: user 2 µs, sys: 0 ns, total: 2 µs\n",
            "Wall time: 5.25 µs\n"
          ]
        }
      ]
    },
    {
      "cell_type": "code",
      "source": [
        "# adding the cost of coming to the start node from the last unvisited node\n",
        "%time\n",
        "cost += first_node_distance[curr]"
      ],
      "metadata": {
        "id": "TG1ulOhx9bZ3",
        "colab": {
          "base_uri": "https://localhost:8080/"
        },
        "outputId": "17a1eaed-60d1-4567-a0e2-7963213ccfee"
      },
      "execution_count": null,
      "outputs": [
        {
          "output_type": "stream",
          "name": "stdout",
          "text": [
            "CPU times: user 4 µs, sys: 0 ns, total: 4 µs\n",
            "Wall time: 8.58 µs\n"
          ]
        }
      ]
    },
    {
      "cell_type": "code",
      "source": [
        "%time\n",
        "#printing the path\n",
        "print(*visited, sep = ' ')"
      ],
      "metadata": {
        "colab": {
          "base_uri": "https://localhost:8080/"
        },
        "id": "jA3d_lAx07KC",
        "outputId": "8189b8fe-a1db-457c-e1d7-5ed9aa43c6a9"
      },
      "execution_count": null,
      "outputs": [
        {
          "output_type": "stream",
          "name": "stdout",
          "text": [
            "CPU times: user 4 µs, sys: 0 ns, total: 4 µs\n",
            "Wall time: 7.87 µs\n",
            "0 3 1 2\n"
          ]
        }
      ]
    },
    {
      "cell_type": "code",
      "source": [
        "#print('cost of the total path:', cost)"
      ],
      "metadata": {
        "id": "DdZzB93s1QIm"
      },
      "execution_count": null,
      "outputs": []
    }
  ]
}